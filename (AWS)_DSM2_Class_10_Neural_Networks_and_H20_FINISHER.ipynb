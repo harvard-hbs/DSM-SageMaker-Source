{
  "nbformat": 4,
  "nbformat_minor": 0,
  "metadata": {
    "kernelspec": {
      "display_name": "R",
      "language": "R",
      "name": "ir"
    },
    "language_info": {
      "codemirror_mode": "r",
      "file_extension": ".r",
      "mimetype": "text/x-r-source",
      "name": "R",
      "pygments_lexer": "r",
      "version": "3.6.1"
    },
    "colab": {
      "provenance": [],
      "collapsed_sections": [
        "UZg9dQwCVyi3",
        "IMRUdNwSZvV8",
        "PY5ESab4tv1U"
      ]
    }
  },
  "cells": [
    {
      "cell_type": "code",
      "metadata": {
        "id": "pH7VeO1tk4fX"
      },
      "source": [
        "options(repr.matrix.max.cols=500)\n",
        "options(warn=-1)\n",
        "install.packages(c(\"caret\", \"class\", \"rpart\", \"rpart.plot\", \"randomForest\", \"xgboost\", \"MLmetrics\", \"caTools\", \"NeuralNetTools\", \"skimr\"))\n",
        "library(caret)\n",
        "library(class)\n",
        "library(rpart)\n",
        "library(rpart.plot)\n",
        "library(randomForest)\n",
        "library(xgboost)\n",
        "library(MLmetrics)\n",
        "library(tidyverse)\n",
        "library(reshape2)\n",
        "library(caTools)\n",
        "library(NeuralNetTools)\n",
        "library(skimr)"
      ],
      "execution_count": null,
      "outputs": []
    },
    {
      "cell_type": "markdown",
      "metadata": {
        "id": "_Svs5pM5G82Y"
      },
      "source": [
        "# **Regression Problem: Predicting a Car's Price**\n",
        "\n",
        "Data taken from the [Kaggle competition here](https://www.kaggle.com/datasets/avikasliwal/used-cars-price-prediction). "
      ]
    },
    {
      "cell_type": "markdown",
      "metadata": {
        "id": "rd1wxXKOHEAW"
      },
      "source": [
        "##Read in the Data"
      ]
    },
    {
      "cell_type": "code",
      "metadata": {
        "id": "HtyysVMCHGKG",
        "colab": {
          "base_uri": "https://localhost:8080/",
          "height": 480
        },
        "outputId": "3ee0cc26-ffd4-423f-9f15-3f726481dc76"
      },
      "source": [
        "# Read in data\n",
        "data <- read_csv(\"http://www.dsm.business/data/car_price_data.csv\")\n",
        "data <- data[,-c(1, 13)] # Remove unnecessary columns\n",
        "\n",
        "# Convert select columns to numeric\n",
        "data$Mileage <- parse_number(data$Mileage)\n",
        "data$Engine <- parse_number(data$Engine)\n",
        "data$Power <- parse_number(data$Power)\n",
        "\n",
        "data$Price <- log(data$Price)\n",
        "\n",
        "# Extract the manufacturer's name\n",
        "carMake <- colsplit(data$Name, \" \", c(\"MANUF\",\"MAKE\"))\n",
        "data$Name <- parse_factor(carMake$MANUF)\n",
        "data$Fuel_CNG = ifelse(data$Fuel_Type == \"CNG\",1,0)\n",
        "data$Fuel_Diesel = ifelse(data$Fuel_Type == \"Diesel\",1,0)\n",
        "data$Fuel_Electric = ifelse(data$Fuel_Type == \"Electric\",1,0)\n",
        "data$Fuel_LPG = ifelse(data$Fuel_Type == \"LPG\",1,0)\n",
        "data$Manual = ifelse(data$Transmission==\"Manual\",1,0)\n",
        "data$First_Owner =ifelse(data$Owner_Type==\"First\",1,0)\n",
        "\n",
        "# View data\n",
        "head(data)"
      ],
      "execution_count": null,
      "outputs": [
        {
          "output_type": "stream",
          "name": "stderr",
          "text": [
            "\u001b[1m\u001b[22mNew names:\n",
            "\u001b[36m•\u001b[39m `` -> `...1`\n",
            "\u001b[1mRows: \u001b[22m\u001b[34m6019\u001b[39m \u001b[1mColumns: \u001b[22m\u001b[34m14\u001b[39m\n",
            "\u001b[36m──\u001b[39m \u001b[1mColumn specification\u001b[22m \u001b[36m────────────────────────────────────────────────────────\u001b[39m\n",
            "\u001b[1mDelimiter:\u001b[22m \",\"\n",
            "\u001b[31mchr\u001b[39m (9): Name, Location, Fuel_Type, Transmission, Owner_Type, Mileage, Engin...\n",
            "\u001b[32mdbl\u001b[39m (5): ...1, Year, Kilometers_Driven, Seats, Price\n",
            "\n",
            "\u001b[36mℹ\u001b[39m Use `spec()` to retrieve the full column specification for this data.\n",
            "\u001b[36mℹ\u001b[39m Specify the column types or set `show_col_types = FALSE` to quiet this message.\n"
          ]
        },
        {
          "output_type": "display_data",
          "data": {
            "text/html": [
              "<table class=\"dataframe\">\n",
              "<caption>A tibble: 6 × 18</caption>\n",
              "<thead>\n",
              "\t<tr><th scope=col>Name</th><th scope=col>Location</th><th scope=col>Year</th><th scope=col>Kilometers_Driven</th><th scope=col>Fuel_Type</th><th scope=col>Transmission</th><th scope=col>Owner_Type</th><th scope=col>Mileage</th><th scope=col>Engine</th><th scope=col>Power</th><th scope=col>Seats</th><th scope=col>Price</th><th scope=col>Fuel_CNG</th><th scope=col>Fuel_Diesel</th><th scope=col>Fuel_Electric</th><th scope=col>Fuel_LPG</th><th scope=col>Manual</th><th scope=col>First_Owner</th></tr>\n",
              "\t<tr><th scope=col>&lt;fct&gt;</th><th scope=col>&lt;chr&gt;</th><th scope=col>&lt;dbl&gt;</th><th scope=col>&lt;dbl&gt;</th><th scope=col>&lt;chr&gt;</th><th scope=col>&lt;chr&gt;</th><th scope=col>&lt;chr&gt;</th><th scope=col>&lt;dbl&gt;</th><th scope=col>&lt;dbl&gt;</th><th scope=col>&lt;dbl&gt;</th><th scope=col>&lt;dbl&gt;</th><th scope=col>&lt;dbl&gt;</th><th scope=col>&lt;dbl&gt;</th><th scope=col>&lt;dbl&gt;</th><th scope=col>&lt;dbl&gt;</th><th scope=col>&lt;dbl&gt;</th><th scope=col>&lt;dbl&gt;</th><th scope=col>&lt;dbl&gt;</th></tr>\n",
              "</thead>\n",
              "<tbody>\n",
              "\t<tr><td>Maruti </td><td>Mumbai    </td><td>2010</td><td>72000</td><td>CNG   </td><td>Manual   </td><td>First </td><td>26.60</td><td> 998</td><td> 58.16</td><td>5</td><td>0.5596158</td><td>1</td><td>0</td><td>0</td><td>0</td><td>1</td><td>1</td></tr>\n",
              "\t<tr><td>Hyundai</td><td>Pune      </td><td>2015</td><td>41000</td><td>Diesel</td><td>Manual   </td><td>First </td><td>19.67</td><td>1582</td><td>126.20</td><td>5</td><td>2.5257286</td><td>0</td><td>1</td><td>0</td><td>0</td><td>1</td><td>1</td></tr>\n",
              "\t<tr><td>Honda  </td><td>Chennai   </td><td>2011</td><td>46000</td><td>Petrol</td><td>Manual   </td><td>First </td><td>18.20</td><td>1199</td><td> 88.70</td><td>5</td><td>1.5040774</td><td>0</td><td>0</td><td>0</td><td>0</td><td>1</td><td>1</td></tr>\n",
              "\t<tr><td>Maruti </td><td>Chennai   </td><td>2012</td><td>87000</td><td>Diesel</td><td>Manual   </td><td>First </td><td>20.77</td><td>1248</td><td> 88.76</td><td>7</td><td>1.7917595</td><td>0</td><td>1</td><td>0</td><td>0</td><td>1</td><td>1</td></tr>\n",
              "\t<tr><td>Audi   </td><td>Coimbatore</td><td>2013</td><td>40670</td><td>Diesel</td><td>Automatic</td><td>Second</td><td>15.20</td><td>1968</td><td>140.80</td><td>5</td><td>2.8758220</td><td>0</td><td>1</td><td>0</td><td>0</td><td>0</td><td>0</td></tr>\n",
              "\t<tr><td>Hyundai</td><td>Hyderabad </td><td>2012</td><td>75000</td><td>LPG   </td><td>Manual   </td><td>First </td><td>21.10</td><td> 814</td><td> 55.20</td><td>5</td><td>0.8544153</td><td>0</td><td>0</td><td>0</td><td>1</td><td>1</td><td>1</td></tr>\n",
              "</tbody>\n",
              "</table>\n"
            ],
            "text/markdown": "\nA tibble: 6 × 18\n\n| Name &lt;fct&gt; | Location &lt;chr&gt; | Year &lt;dbl&gt; | Kilometers_Driven &lt;dbl&gt; | Fuel_Type &lt;chr&gt; | Transmission &lt;chr&gt; | Owner_Type &lt;chr&gt; | Mileage &lt;dbl&gt; | Engine &lt;dbl&gt; | Power &lt;dbl&gt; | Seats &lt;dbl&gt; | Price &lt;dbl&gt; | Fuel_CNG &lt;dbl&gt; | Fuel_Diesel &lt;dbl&gt; | Fuel_Electric &lt;dbl&gt; | Fuel_LPG &lt;dbl&gt; | Manual &lt;dbl&gt; | First_Owner &lt;dbl&gt; |\n|---|---|---|---|---|---|---|---|---|---|---|---|---|---|---|---|---|---|\n| Maruti  | Mumbai     | 2010 | 72000 | CNG    | Manual    | First  | 26.60 |  998 |  58.16 | 5 | 0.5596158 | 1 | 0 | 0 | 0 | 1 | 1 |\n| Hyundai | Pune       | 2015 | 41000 | Diesel | Manual    | First  | 19.67 | 1582 | 126.20 | 5 | 2.5257286 | 0 | 1 | 0 | 0 | 1 | 1 |\n| Honda   | Chennai    | 2011 | 46000 | Petrol | Manual    | First  | 18.20 | 1199 |  88.70 | 5 | 1.5040774 | 0 | 0 | 0 | 0 | 1 | 1 |\n| Maruti  | Chennai    | 2012 | 87000 | Diesel | Manual    | First  | 20.77 | 1248 |  88.76 | 7 | 1.7917595 | 0 | 1 | 0 | 0 | 1 | 1 |\n| Audi    | Coimbatore | 2013 | 40670 | Diesel | Automatic | Second | 15.20 | 1968 | 140.80 | 5 | 2.8758220 | 0 | 1 | 0 | 0 | 0 | 0 |\n| Hyundai | Hyderabad  | 2012 | 75000 | LPG    | Manual    | First  | 21.10 |  814 |  55.20 | 5 | 0.8544153 | 0 | 0 | 0 | 1 | 1 | 1 |\n\n",
            "text/latex": "A tibble: 6 × 18\n\\begin{tabular}{llllllllllllllllll}\n Name & Location & Year & Kilometers\\_Driven & Fuel\\_Type & Transmission & Owner\\_Type & Mileage & Engine & Power & Seats & Price & Fuel\\_CNG & Fuel\\_Diesel & Fuel\\_Electric & Fuel\\_LPG & Manual & First\\_Owner\\\\\n <fct> & <chr> & <dbl> & <dbl> & <chr> & <chr> & <chr> & <dbl> & <dbl> & <dbl> & <dbl> & <dbl> & <dbl> & <dbl> & <dbl> & <dbl> & <dbl> & <dbl>\\\\\n\\hline\n\t Maruti  & Mumbai     & 2010 & 72000 & CNG    & Manual    & First  & 26.60 &  998 &  58.16 & 5 & 0.5596158 & 1 & 0 & 0 & 0 & 1 & 1\\\\\n\t Hyundai & Pune       & 2015 & 41000 & Diesel & Manual    & First  & 19.67 & 1582 & 126.20 & 5 & 2.5257286 & 0 & 1 & 0 & 0 & 1 & 1\\\\\n\t Honda   & Chennai    & 2011 & 46000 & Petrol & Manual    & First  & 18.20 & 1199 &  88.70 & 5 & 1.5040774 & 0 & 0 & 0 & 0 & 1 & 1\\\\\n\t Maruti  & Chennai    & 2012 & 87000 & Diesel & Manual    & First  & 20.77 & 1248 &  88.76 & 7 & 1.7917595 & 0 & 1 & 0 & 0 & 1 & 1\\\\\n\t Audi    & Coimbatore & 2013 & 40670 & Diesel & Automatic & Second & 15.20 & 1968 & 140.80 & 5 & 2.8758220 & 0 & 1 & 0 & 0 & 0 & 0\\\\\n\t Hyundai & Hyderabad  & 2012 & 75000 & LPG    & Manual    & First  & 21.10 &  814 &  55.20 & 5 & 0.8544153 & 0 & 0 & 0 & 1 & 1 & 1\\\\\n\\end{tabular}\n",
            "text/plain": [
              "  Name    Location   Year Kilometers_Driven Fuel_Type Transmission Owner_Type\n",
              "1 Maruti  Mumbai     2010 72000             CNG       Manual       First     \n",
              "2 Hyundai Pune       2015 41000             Diesel    Manual       First     \n",
              "3 Honda   Chennai    2011 46000             Petrol    Manual       First     \n",
              "4 Maruti  Chennai    2012 87000             Diesel    Manual       First     \n",
              "5 Audi    Coimbatore 2013 40670             Diesel    Automatic    Second    \n",
              "6 Hyundai Hyderabad  2012 75000             LPG       Manual       First     \n",
              "  Mileage Engine Power  Seats Price     Fuel_CNG Fuel_Diesel Fuel_Electric\n",
              "1 26.60    998    58.16 5     0.5596158 1        0           0            \n",
              "2 19.67   1582   126.20 5     2.5257286 0        1           0            \n",
              "3 18.20   1199    88.70 5     1.5040774 0        0           0            \n",
              "4 20.77   1248    88.76 7     1.7917595 0        1           0            \n",
              "5 15.20   1968   140.80 5     2.8758220 0        1           0            \n",
              "6 21.10    814    55.20 5     0.8544153 0        0           0            \n",
              "  Fuel_LPG Manual First_Owner\n",
              "1 0        1      1          \n",
              "2 0        1      1          \n",
              "3 0        1      1          \n",
              "4 0        1      1          \n",
              "5 0        0      0          \n",
              "6 1        1      1          "
            ]
          },
          "metadata": {}
        }
      ]
    },
    {
      "cell_type": "markdown",
      "source": [
        "## Exploratory Data Analysis\n",
        "\n",
        "Spend some time exploring the data. "
      ],
      "metadata": {
        "id": "WQ-vNZUdXASW"
      }
    },
    {
      "cell_type": "code",
      "source": [
        "# ADD COMMAND(S) HERE"
      ],
      "metadata": {
        "id": "VyIbWcCHXETz"
      },
      "execution_count": null,
      "outputs": []
    },
    {
      "cell_type": "markdown",
      "source": [
        "## Create Dummy Variables"
      ],
      "metadata": {
        "id": "0Bh5j9p5Pqnr"
      }
    },
    {
      "cell_type": "code",
      "source": [
        "data = data[,-c(1,2,5,6,7)]\n",
        "head(data)"
      ],
      "metadata": {
        "id": "_fV-bybCNmCW",
        "colab": {
          "base_uri": "https://localhost:8080/",
          "height": 306
        },
        "outputId": "2bdb7c3f-4075-4b68-a04c-a06cc6021bb1"
      },
      "execution_count": null,
      "outputs": [
        {
          "output_type": "display_data",
          "data": {
            "text/html": [
              "<table class=\"dataframe\">\n",
              "<caption>A tibble: 6 × 13</caption>\n",
              "<thead>\n",
              "\t<tr><th scope=col>Year</th><th scope=col>Kilometers_Driven</th><th scope=col>Mileage</th><th scope=col>Engine</th><th scope=col>Power</th><th scope=col>Seats</th><th scope=col>Price</th><th scope=col>Fuel_CNG</th><th scope=col>Fuel_Diesel</th><th scope=col>Fuel_Electric</th><th scope=col>Fuel_LPG</th><th scope=col>Manual</th><th scope=col>First_Owner</th></tr>\n",
              "\t<tr><th scope=col>&lt;dbl&gt;</th><th scope=col>&lt;dbl&gt;</th><th scope=col>&lt;dbl&gt;</th><th scope=col>&lt;dbl&gt;</th><th scope=col>&lt;dbl&gt;</th><th scope=col>&lt;dbl&gt;</th><th scope=col>&lt;dbl&gt;</th><th scope=col>&lt;dbl&gt;</th><th scope=col>&lt;dbl&gt;</th><th scope=col>&lt;dbl&gt;</th><th scope=col>&lt;dbl&gt;</th><th scope=col>&lt;dbl&gt;</th><th scope=col>&lt;dbl&gt;</th></tr>\n",
              "</thead>\n",
              "<tbody>\n",
              "\t<tr><td>2010</td><td>72000</td><td>26.60</td><td> 998</td><td> 58.16</td><td>5</td><td>0.5596158</td><td>1</td><td>0</td><td>0</td><td>0</td><td>1</td><td>1</td></tr>\n",
              "\t<tr><td>2015</td><td>41000</td><td>19.67</td><td>1582</td><td>126.20</td><td>5</td><td>2.5257286</td><td>0</td><td>1</td><td>0</td><td>0</td><td>1</td><td>1</td></tr>\n",
              "\t<tr><td>2011</td><td>46000</td><td>18.20</td><td>1199</td><td> 88.70</td><td>5</td><td>1.5040774</td><td>0</td><td>0</td><td>0</td><td>0</td><td>1</td><td>1</td></tr>\n",
              "\t<tr><td>2012</td><td>87000</td><td>20.77</td><td>1248</td><td> 88.76</td><td>7</td><td>1.7917595</td><td>0</td><td>1</td><td>0</td><td>0</td><td>1</td><td>1</td></tr>\n",
              "\t<tr><td>2013</td><td>40670</td><td>15.20</td><td>1968</td><td>140.80</td><td>5</td><td>2.8758220</td><td>0</td><td>1</td><td>0</td><td>0</td><td>0</td><td>0</td></tr>\n",
              "\t<tr><td>2012</td><td>75000</td><td>21.10</td><td> 814</td><td> 55.20</td><td>5</td><td>0.8544153</td><td>0</td><td>0</td><td>0</td><td>1</td><td>1</td><td>1</td></tr>\n",
              "</tbody>\n",
              "</table>\n"
            ],
            "text/markdown": "\nA tibble: 6 × 13\n\n| Year &lt;dbl&gt; | Kilometers_Driven &lt;dbl&gt; | Mileage &lt;dbl&gt; | Engine &lt;dbl&gt; | Power &lt;dbl&gt; | Seats &lt;dbl&gt; | Price &lt;dbl&gt; | Fuel_CNG &lt;dbl&gt; | Fuel_Diesel &lt;dbl&gt; | Fuel_Electric &lt;dbl&gt; | Fuel_LPG &lt;dbl&gt; | Manual &lt;dbl&gt; | First_Owner &lt;dbl&gt; |\n|---|---|---|---|---|---|---|---|---|---|---|---|---|\n| 2010 | 72000 | 26.60 |  998 |  58.16 | 5 | 0.5596158 | 1 | 0 | 0 | 0 | 1 | 1 |\n| 2015 | 41000 | 19.67 | 1582 | 126.20 | 5 | 2.5257286 | 0 | 1 | 0 | 0 | 1 | 1 |\n| 2011 | 46000 | 18.20 | 1199 |  88.70 | 5 | 1.5040774 | 0 | 0 | 0 | 0 | 1 | 1 |\n| 2012 | 87000 | 20.77 | 1248 |  88.76 | 7 | 1.7917595 | 0 | 1 | 0 | 0 | 1 | 1 |\n| 2013 | 40670 | 15.20 | 1968 | 140.80 | 5 | 2.8758220 | 0 | 1 | 0 | 0 | 0 | 0 |\n| 2012 | 75000 | 21.10 |  814 |  55.20 | 5 | 0.8544153 | 0 | 0 | 0 | 1 | 1 | 1 |\n\n",
            "text/latex": "A tibble: 6 × 13\n\\begin{tabular}{lllllllllllll}\n Year & Kilometers\\_Driven & Mileage & Engine & Power & Seats & Price & Fuel\\_CNG & Fuel\\_Diesel & Fuel\\_Electric & Fuel\\_LPG & Manual & First\\_Owner\\\\\n <dbl> & <dbl> & <dbl> & <dbl> & <dbl> & <dbl> & <dbl> & <dbl> & <dbl> & <dbl> & <dbl> & <dbl> & <dbl>\\\\\n\\hline\n\t 2010 & 72000 & 26.60 &  998 &  58.16 & 5 & 0.5596158 & 1 & 0 & 0 & 0 & 1 & 1\\\\\n\t 2015 & 41000 & 19.67 & 1582 & 126.20 & 5 & 2.5257286 & 0 & 1 & 0 & 0 & 1 & 1\\\\\n\t 2011 & 46000 & 18.20 & 1199 &  88.70 & 5 & 1.5040774 & 0 & 0 & 0 & 0 & 1 & 1\\\\\n\t 2012 & 87000 & 20.77 & 1248 &  88.76 & 7 & 1.7917595 & 0 & 1 & 0 & 0 & 1 & 1\\\\\n\t 2013 & 40670 & 15.20 & 1968 & 140.80 & 5 & 2.8758220 & 0 & 1 & 0 & 0 & 0 & 0\\\\\n\t 2012 & 75000 & 21.10 &  814 &  55.20 & 5 & 0.8544153 & 0 & 0 & 0 & 1 & 1 & 1\\\\\n\\end{tabular}\n",
            "text/plain": [
              "  Year Kilometers_Driven Mileage Engine Power  Seats Price     Fuel_CNG\n",
              "1 2010 72000             26.60    998    58.16 5     0.5596158 1       \n",
              "2 2015 41000             19.67   1582   126.20 5     2.5257286 0       \n",
              "3 2011 46000             18.20   1199    88.70 5     1.5040774 0       \n",
              "4 2012 87000             20.77   1248    88.76 7     1.7917595 0       \n",
              "5 2013 40670             15.20   1968   140.80 5     2.8758220 0       \n",
              "6 2012 75000             21.10    814    55.20 5     0.8544153 0       \n",
              "  Fuel_Diesel Fuel_Electric Fuel_LPG Manual First_Owner\n",
              "1 0           0             0        1      1          \n",
              "2 1           0             0        1      1          \n",
              "3 0           0             0        1      1          \n",
              "4 1           0             0        1      1          \n",
              "5 1           0             0        0      0          \n",
              "6 0           0             1        1      1          "
            ]
          },
          "metadata": {}
        }
      ]
    },
    {
      "cell_type": "markdown",
      "metadata": {
        "id": "qXgr3cHtHOwJ"
      },
      "source": [
        "##Split into Train/Test"
      ]
    },
    {
      "cell_type": "code",
      "metadata": {
        "id": "VyJtUSdIHX4j"
      },
      "source": [
        "set.seed(307560)\n",
        "\n",
        "# Split the data into train (80%) and test (20%) sets\n",
        "split <- sample.split(data$Price, SplitRatio = 0.8)\n",
        "train <- filter(data, split == TRUE)\n",
        "test <- filter(data, split == FALSE)"
      ],
      "execution_count": null,
      "outputs": []
    },
    {
      "cell_type": "markdown",
      "metadata": {
        "id": "rXRMMN2HHf2i"
      },
      "source": [
        "## Fit a Linear Regression"
      ]
    },
    {
      "cell_type": "code",
      "metadata": {
        "id": "w4UwCfvLHlCZ",
        "colab": {
          "base_uri": "https://localhost:8080/",
          "height": 260
        },
        "outputId": "0a0cbfd2-ce1d-41f3-c035-77524ac155e4"
      },
      "source": [
        "# Define the train control object, which establishes the conditions of the cross validation\n",
        "trctrl <- trainControl(method = \"cv\", number = 5)\n",
        "\n",
        "# Fit the lm model using five-fold cross-validation\n",
        "set.seed(3333)\n",
        "lm_fit <- train(\n",
        "        Price ~ ., data = train, method = \"lm\",\n",
        "        trControl = trctrl, na.action = na.omit\n",
        ")\n",
        "\n",
        "lm_fit"
      ],
      "execution_count": null,
      "outputs": [
        {
          "output_type": "display_data",
          "data": {
            "text/plain": [
              "Linear Regression \n",
              "\n",
              "5022 samples\n",
              "  12 predictor\n",
              "\n",
              "No pre-processing\n",
              "Resampling: Cross-Validated (5 fold) \n",
              "Summary of sample sizes: 3923, 3923, 3923, 3924, 3923 \n",
              "Resampling results:\n",
              "\n",
              "  RMSE     Rsquared   MAE      \n",
              "  0.31209  0.8736382  0.2366883\n",
              "\n",
              "Tuning parameter 'intercept' was held constant at a value of TRUE"
            ]
          },
          "metadata": {}
        }
      ]
    },
    {
      "cell_type": "markdown",
      "metadata": {
        "id": "NrAQLPLgJLK2"
      },
      "source": [
        "## Fit a KNN"
      ]
    },
    {
      "cell_type": "code",
      "metadata": {
        "id": "ms2_sYPnJLLB",
        "colab": {
          "base_uri": "https://localhost:8080/",
          "height": 590
        },
        "outputId": "8c1239a7-5a90-494f-d975-43eceb23eeba"
      },
      "source": [
        "# Fit the knn model using five-fold cross-validation\n",
        "set.seed(3333)\n",
        "knn_fit <- train(\n",
        "        Price ~ ., data = train, method = \"knn\",\n",
        "        trControl = trctrl, na.action = na.omit,\n",
        "        preProcess = c(\"center\", \"scale\"), \n",
        "        tuneGrid = data.frame(k = seq(2, 20, by = 1))\n",
        ")\n",
        "\n",
        "knn_fit"
      ],
      "execution_count": null,
      "outputs": [
        {
          "output_type": "display_data",
          "data": {
            "text/plain": [
              "k-Nearest Neighbors \n",
              "\n",
              "5022 samples\n",
              "  12 predictor\n",
              "\n",
              "Pre-processing: centered (12), scaled (12) \n",
              "Resampling: Cross-Validated (5 fold) \n",
              "Summary of sample sizes: 3923, 3923, 3923, 3924, 3923 \n",
              "Resampling results across tuning parameters:\n",
              "\n",
              "  k   RMSE       Rsquared   MAE      \n",
              "   2  0.3023545  0.8820382  0.2174345\n",
              "   3  0.2917984  0.8894897  0.2105925\n",
              "   4  0.2892229  0.8913730  0.2085350\n",
              "   5  0.2901027  0.8907864  0.2093452\n",
              "   6  0.2894982  0.8914249  0.2098975\n",
              "   7  0.2907191  0.8907445  0.2104894\n",
              "   8  0.2922343  0.8897621  0.2120226\n",
              "   9  0.2929122  0.8893697  0.2129529\n",
              "  10  0.2941598  0.8886133  0.2137804\n",
              "  11  0.2960306  0.8873460  0.2148956\n",
              "  12  0.2974355  0.8864275  0.2159393\n",
              "  13  0.2991351  0.8851279  0.2173803\n",
              "  14  0.3014680  0.8834329  0.2194406\n",
              "  15  0.3028028  0.8825208  0.2203746\n",
              "  16  0.3041222  0.8815490  0.2213010\n",
              "  17  0.3054111  0.8806163  0.2227181\n",
              "  18  0.3068426  0.8795780  0.2238221\n",
              "  19  0.3083181  0.8785181  0.2248330\n",
              "  20  0.3095053  0.8776144  0.2257252\n",
              "\n",
              "RMSE was used to select the optimal model using the smallest value.\n",
              "The final value used for the model was k = 4."
            ]
          },
          "metadata": {}
        }
      ]
    },
    {
      "cell_type": "markdown",
      "metadata": {
        "id": "BCQkd4bBJPYx"
      },
      "source": [
        "## Fit an XGBoost"
      ]
    },
    {
      "cell_type": "code",
      "metadata": {
        "id": "6uMsFHiPJPYz",
        "colab": {
          "base_uri": "https://localhost:8080/",
          "height": 1000
        },
        "outputId": "99de9fb5-8488-4b8f-821f-dd1a63700b28"
      },
      "source": [
        "# Fit the xgboost model using five-fold cross-validation\n",
        "set.seed(3333)\n",
        "xgb_fit <- train(\n",
        "        Price ~ ., data = train, method = \"xgbTree\",\n",
        "        trControl = trctrl, na.action = na.omit,\n",
        "        verbose = FALSE, verbosity = 0\n",
        ")\n",
        "\n",
        "xgb_fit"
      ],
      "execution_count": null,
      "outputs": [
        {
          "output_type": "display_data",
          "data": {
            "text/plain": [
              "eXtreme Gradient Boosting \n",
              "\n",
              "5022 samples\n",
              "  12 predictor\n",
              "\n",
              "No pre-processing\n",
              "Resampling: Cross-Validated (5 fold) \n",
              "Summary of sample sizes: 3923, 3923, 3923, 3924, 3923 \n",
              "Resampling results across tuning parameters:\n",
              "\n",
              "  eta  max_depth  colsample_bytree  subsample  nrounds  RMSE       Rsquared \n",
              "  0.3  1          0.6               0.50        50      0.2992874  0.8839462\n",
              "  0.3  1          0.6               0.50       100      0.2894382  0.8914852\n",
              "  0.3  1          0.6               0.50       150      0.2850391  0.8947500\n",
              "  0.3  1          0.6               0.75        50      0.2993377  0.8839896\n",
              "  0.3  1          0.6               0.75       100      0.2882017  0.8922705\n",
              "  0.3  1          0.6               0.75       150      0.2832468  0.8959700\n",
              "  0.3  1          0.6               1.00        50      0.2998986  0.8835838\n",
              "  0.3  1          0.6               1.00       100      0.2893998  0.8915205\n",
              "  0.3  1          0.6               1.00       150      0.2838017  0.8956518\n",
              "  0.3  1          0.8               0.50        50      0.2987594  0.8843045\n",
              "  0.3  1          0.8               0.50       100      0.2872915  0.8928422\n",
              "  0.3  1          0.8               0.50       150      0.2824033  0.8964598\n",
              "  0.3  1          0.8               0.75        50      0.2955606  0.8867172\n",
              "  0.3  1          0.8               0.75       100      0.2862177  0.8937236\n",
              "  0.3  1          0.8               0.75       150      0.2818945  0.8968524\n",
              "  0.3  1          0.8               1.00        50      0.2976511  0.8853357\n",
              "  0.3  1          0.8               1.00       100      0.2879770  0.8925124\n",
              "  0.3  1          0.8               1.00       150      0.2828381  0.8962588\n",
              "  0.3  2          0.6               0.50        50      0.2767768  0.9003947\n",
              "  0.3  2          0.6               0.50       100      0.2619708  0.9107189\n",
              "  0.3  2          0.6               0.50       150      0.2548010  0.9155869\n",
              "  0.3  2          0.6               0.75        50      0.2695649  0.9057752\n",
              "  0.3  2          0.6               0.75       100      0.2561569  0.9148512\n",
              "  0.3  2          0.6               0.75       150      0.2495177  0.9191950\n",
              "  0.3  2          0.6               1.00        50      0.2722338  0.9037568\n",
              "  0.3  2          0.6               1.00       100      0.2566204  0.9144376\n",
              "  0.3  2          0.6               1.00       150      0.2485266  0.9197677\n",
              "  0.3  2          0.8               0.50        50      0.2731431  0.9032774\n",
              "  0.3  2          0.8               0.50       100      0.2608445  0.9116299\n",
              "  0.3  2          0.8               0.50       150      0.2537281  0.9163453\n",
              "  0.3  2          0.8               0.75        50      0.2735505  0.9027986\n",
              "  0.3  2          0.8               0.75       100      0.2581329  0.9134401\n",
              "  0.3  2          0.8               0.75       150      0.2488341  0.9195419\n",
              "  0.3  2          0.8               1.00        50      0.2710379  0.9044823\n",
              "  0.3  2          0.8               1.00       100      0.2574519  0.9138079\n",
              "  0.3  2          0.8               1.00       150      0.2496737  0.9189264\n",
              "  0.3  3          0.6               0.50        50      0.2604299  0.9117486\n",
              "  0.3  3          0.6               0.50       100      0.2473965  0.9202898\n",
              "  0.3  3          0.6               0.50       150      0.2410989  0.9243591\n",
              "  0.3  3          0.6               0.75        50      0.2574757  0.9137666\n",
              "  0.3  3          0.6               0.75       100      0.2429934  0.9232504\n",
              "  0.3  3          0.6               0.75       150      0.2364718  0.9272852\n",
              "  0.3  3          0.6               1.00        50      0.2550160  0.9154767\n",
              "  0.3  3          0.6               1.00       100      0.2400178  0.9251089\n",
              "  0.3  3          0.6               1.00       150      0.2335962  0.9290373\n",
              "  0.3  3          0.8               0.50        50      0.2566262  0.9145034\n",
              "  0.3  3          0.8               0.50       100      0.2458147  0.9214542\n",
              "  0.3  3          0.8               0.50       150      0.2404785  0.9248829\n",
              "  0.3  3          0.8               0.75        50      0.2539204  0.9161631\n",
              "  0.3  3          0.8               0.75       100      0.2406867  0.9246944\n",
              "  0.3  3          0.8               0.75       150      0.2349232  0.9281977\n",
              "  0.3  3          0.8               1.00        50      0.2540370  0.9159832\n",
              "  0.3  3          0.8               1.00       100      0.2385413  0.9259966\n",
              "  0.3  3          0.8               1.00       150      0.2334162  0.9291511\n",
              "  0.4  1          0.6               0.50        50      0.3006853  0.8825595\n",
              "  0.4  1          0.6               0.50       100      0.2880166  0.8923058\n",
              "  0.4  1          0.6               0.50       150      0.2822883  0.8966240\n",
              "  0.4  1          0.6               0.75        50      0.2975236  0.8853296\n",
              "  0.4  1          0.6               0.75       100      0.2877787  0.8925031\n",
              "  0.4  1          0.6               0.75       150      0.2836356  0.8955144\n",
              "  0.4  1          0.6               1.00        50      0.2998796  0.8831367\n",
              "  0.4  1          0.6               1.00       100      0.2893730  0.8912949\n",
              "  0.4  1          0.6               1.00       150      0.2839072  0.8953256\n",
              "  0.4  1          0.8               0.50        50      0.2978578  0.8847748\n",
              "  0.4  1          0.8               0.50       100      0.2873405  0.8928246\n",
              "  0.4  1          0.8               0.50       150      0.2826902  0.8961849\n",
              "  0.4  1          0.8               0.75        50      0.3017435  0.8817964\n",
              "  0.4  1          0.8               0.75       100      0.2909443  0.8900426\n",
              "  0.4  1          0.8               0.75       150      0.2841427  0.8951482\n",
              "  0.4  1          0.8               1.00        50      0.3037869  0.8801954\n",
              "  0.4  1          0.8               1.00       100      0.2913088  0.8898372\n",
              "  0.4  1          0.8               1.00       150      0.2851152  0.8944485\n",
              "  0.4  2          0.6               0.50        50      0.2754262  0.9014534\n",
              "  0.4  2          0.6               0.50       100      0.2618922  0.9108149\n",
              "  0.4  2          0.6               0.50       150      0.2538500  0.9161560\n",
              "  0.4  2          0.6               0.75        50      0.2711935  0.9044062\n",
              "  0.4  2          0.6               0.75       100      0.2571101  0.9139250\n",
              "  0.4  2          0.6               0.75       150      0.2488412  0.9194860\n",
              "  0.4  2          0.6               1.00        50      0.2671804  0.9073298\n",
              "  0.4  2          0.6               1.00       100      0.2520197  0.9174806\n",
              "  0.4  2          0.6               1.00       150      0.2440270  0.9226172\n",
              "  0.4  2          0.8               0.50        50      0.2705190  0.9048146\n",
              "  0.4  2          0.8               0.50       100      0.2584016  0.9132363\n",
              "  0.4  2          0.8               0.50       150      0.2509937  0.9181419\n",
              "  0.4  2          0.8               0.75        50      0.2683299  0.9065012\n",
              "  0.4  2          0.8               0.75       100      0.2530808  0.9167008\n",
              "  0.4  2          0.8               0.75       150      0.2447694  0.9220084\n",
              "  0.4  2          0.8               1.00        50      0.2681540  0.9065489\n",
              "  0.4  2          0.8               1.00       100      0.2522413  0.9173174\n",
              "  0.4  2          0.8               1.00       150      0.2446091  0.9221714\n",
              "  0.4  3          0.6               0.50        50      0.2597199  0.9124529\n",
              "  0.4  3          0.6               0.50       100      0.2494928  0.9192206\n",
              "  0.4  3          0.6               0.50       150      0.2457566  0.9216226\n",
              "  0.4  3          0.6               0.75        50      0.2575237  0.9134990\n",
              "  0.4  3          0.6               0.75       100      0.2435302  0.9226456\n",
              "  0.4  3          0.6               0.75       150      0.2388453  0.9256682\n",
              "  0.4  3          0.6               1.00        50      0.2535372  0.9163073\n",
              "  0.4  3          0.6               1.00       100      0.2395597  0.9252981\n",
              "  0.4  3          0.6               1.00       150      0.2346707  0.9283231\n",
              "  0.4  3          0.8               0.50        50      0.2595387  0.9124856\n",
              "  0.4  3          0.8               0.50       100      0.2490953  0.9195383\n",
              "  0.4  3          0.8               0.50       150      0.2438442  0.9228325\n",
              "  0.4  3          0.8               0.75        50      0.2533421  0.9166085\n",
              "  0.4  3          0.8               0.75       100      0.2406152  0.9248303\n",
              "  0.4  3          0.8               0.75       150      0.2356032  0.9279475\n",
              "  0.4  3          0.8               1.00        50      0.2502117  0.9181770\n",
              "  0.4  3          0.8               1.00       100      0.2360789  0.9273537\n",
              "  0.4  3          0.8               1.00       150      0.2315142  0.9301720\n",
              "  MAE      \n",
              "  0.2265143\n",
              "  0.2194429\n",
              "  0.2159321\n",
              "  0.2274131\n",
              "  0.2189060\n",
              "  0.2151178\n",
              "  0.2278710\n",
              "  0.2196845\n",
              "  0.2152142\n",
              "  0.2272732\n",
              "  0.2188644\n",
              "  0.2144587\n",
              "  0.2247864\n",
              "  0.2176364\n",
              "  0.2139378\n",
              "  0.2247499\n",
              "  0.2178107\n",
              "  0.2138544\n",
              "  0.2094965\n",
              "  0.1963156\n",
              "  0.1901200\n",
              "  0.2028395\n",
              "  0.1919775\n",
              "  0.1863111\n",
              "  0.2048065\n",
              "  0.1924208\n",
              "  0.1860449\n",
              "  0.2044230\n",
              "  0.1942094\n",
              "  0.1884930\n",
              "  0.2059441\n",
              "  0.1932965\n",
              "  0.1857407\n",
              "  0.2030969\n",
              "  0.1916460\n",
              "  0.1850015\n",
              "  0.1934633\n",
              "  0.1831237\n",
              "  0.1779035\n",
              "  0.1923282\n",
              "  0.1806947\n",
              "  0.1742098\n",
              "  0.1893190\n",
              "  0.1766422\n",
              "  0.1709961\n",
              "  0.1912751\n",
              "  0.1818380\n",
              "  0.1770451\n",
              "  0.1893465\n",
              "  0.1776892\n",
              "  0.1722275\n",
              "  0.1885299\n",
              "  0.1765592\n",
              "  0.1715943\n",
              "  0.2302625\n",
              "  0.2209530\n",
              "  0.2155348\n",
              "  0.2267717\n",
              "  0.2189049\n",
              "  0.2151778\n",
              "  0.2278201\n",
              "  0.2199613\n",
              "  0.2158158\n",
              "  0.2268103\n",
              "  0.2186636\n",
              "  0.2146253\n",
              "  0.2295485\n",
              "  0.2212415\n",
              "  0.2156477\n",
              "  0.2313127\n",
              "  0.2214345\n",
              "  0.2165222\n",
              "  0.2057836\n",
              "  0.1939198\n",
              "  0.1883074\n",
              "  0.2042133\n",
              "  0.1922191\n",
              "  0.1856451\n",
              "  0.1993978\n",
              "  0.1870791\n",
              "  0.1805190\n",
              "  0.2019342\n",
              "  0.1917779\n",
              "  0.1858520\n",
              "  0.2019832\n",
              "  0.1896994\n",
              "  0.1831710\n",
              "  0.1994103\n",
              "  0.1869524\n",
              "  0.1805856\n",
              "  0.1935637\n",
              "  0.1843831\n",
              "  0.1800167\n",
              "  0.1913047\n",
              "  0.1792230\n",
              "  0.1745323\n",
              "  0.1884134\n",
              "  0.1768891\n",
              "  0.1720800\n",
              "  0.1920844\n",
              "  0.1831418\n",
              "  0.1786086\n",
              "  0.1884400\n",
              "  0.1770348\n",
              "  0.1717142\n",
              "  0.1858194\n",
              "  0.1740997\n",
              "  0.1698605\n",
              "\n",
              "Tuning parameter 'gamma' was held constant at a value of 0\n",
              "Tuning\n",
              " parameter 'min_child_weight' was held constant at a value of 1\n",
              "RMSE was used to select the optimal model using the smallest value.\n",
              "The final values used for the model were nrounds = 150, max_depth = 3, eta\n",
              " = 0.4, gamma = 0, colsample_bytree = 0.8, min_child_weight = 1 and subsample\n",
              " = 1."
            ]
          },
          "metadata": {}
        }
      ]
    },
    {
      "cell_type": "markdown",
      "source": [
        "The xgboost model searches over a very large grid, so let's use `getTrainPerf()` to view the best results:"
      ],
      "metadata": {
        "id": "T4PtlKonK-5Q"
      }
    },
    {
      "cell_type": "code",
      "source": [
        "getTrainPerf(xgb_fit)"
      ],
      "metadata": {
        "id": "hZ6xVLakK6LG",
        "colab": {
          "base_uri": "https://localhost:8080/",
          "height": 129
        },
        "outputId": "1ff76500-cd42-40b0-f054-a7209e35f411"
      },
      "execution_count": null,
      "outputs": [
        {
          "output_type": "display_data",
          "data": {
            "text/html": [
              "<table class=\"dataframe\">\n",
              "<caption>A data.frame: 1 × 4</caption>\n",
              "<thead>\n",
              "\t<tr><th scope=col>TrainRMSE</th><th scope=col>TrainRsquared</th><th scope=col>TrainMAE</th><th scope=col>method</th></tr>\n",
              "\t<tr><th scope=col>&lt;dbl&gt;</th><th scope=col>&lt;dbl&gt;</th><th scope=col>&lt;dbl&gt;</th><th scope=col>&lt;chr&gt;</th></tr>\n",
              "</thead>\n",
              "<tbody>\n",
              "\t<tr><td>0.2315142</td><td>0.930172</td><td>0.1698605</td><td>xgbTree</td></tr>\n",
              "</tbody>\n",
              "</table>\n"
            ],
            "text/markdown": "\nA data.frame: 1 × 4\n\n| TrainRMSE &lt;dbl&gt; | TrainRsquared &lt;dbl&gt; | TrainMAE &lt;dbl&gt; | method &lt;chr&gt; |\n|---|---|---|---|\n| 0.2315142 | 0.930172 | 0.1698605 | xgbTree |\n\n",
            "text/latex": "A data.frame: 1 × 4\n\\begin{tabular}{llll}\n TrainRMSE & TrainRsquared & TrainMAE & method\\\\\n <dbl> & <dbl> & <dbl> & <chr>\\\\\n\\hline\n\t 0.2315142 & 0.930172 & 0.1698605 & xgbTree\\\\\n\\end{tabular}\n",
            "text/plain": [
              "  TrainRMSE TrainRsquared TrainMAE  method \n",
              "1 0.2315142 0.930172      0.1698605 xgbTree"
            ]
          },
          "metadata": {}
        }
      ]
    },
    {
      "cell_type": "markdown",
      "source": [
        "We can also look at the feature importance of the variables in our model:"
      ],
      "metadata": {
        "id": "wK9SLzmUU_JG"
      }
    },
    {
      "cell_type": "code",
      "source": [
        "varImp(xgb_fit)"
      ],
      "metadata": {
        "id": "Wa2I_7WJSyTG",
        "colab": {
          "base_uri": "https://localhost:8080/",
          "height": 277
        },
        "outputId": "6e31c4b3-42d4-4698-d7b4-1094f8bf0a39"
      },
      "execution_count": null,
      "outputs": [
        {
          "output_type": "display_data",
          "data": {
            "text/plain": [
              "xgbTree variable importance\n",
              "\n",
              "                    Overall\n",
              "Engine            100.00000\n",
              "Power              65.58155\n",
              "Year               44.21937\n",
              "Kilometers_Driven  16.75381\n",
              "Manual             16.19670\n",
              "Mileage             5.32009\n",
              "Fuel_Diesel         3.82263\n",
              "Seats               1.80871\n",
              "First_Owner         0.27788\n",
              "Fuel_LPG            0.01685\n",
              "Fuel_CNG            0.00538\n",
              "Fuel_Electric       0.00000"
            ]
          },
          "metadata": {}
        }
      ]
    },
    {
      "cell_type": "markdown",
      "metadata": {
        "id": "RhIvhR_OJQQk"
      },
      "source": [
        "## Fit a Neural Network"
      ]
    },
    {
      "cell_type": "code",
      "metadata": {
        "id": "0ODcfLKUJQQk",
        "colab": {
          "base_uri": "https://localhost:8080/",
          "height": 1000
        },
        "outputId": "72365fe7-9fee-486b-cc0d-7b458593f70d"
      },
      "source": [
        "# Fit the lm model using five-fold cross-validation\n",
        "set.seed(3333)\n",
        "nnet_fit <- train(\n",
        "        Price ~ . , data = train, method = \"nnet\",\n",
        "        trControl = trctrl, na.action = na.omit,\n",
        "        preProcess = c(\"center\", \"scale\"),\n",
        "        linout = TRUE, maxit = 1000, \n",
        "        tuneGrid = data.frame(size = c(2, 3, 5), decay = 0.5)\n",
        ") \n",
        "\n",
        "nnet_fit"
      ],
      "execution_count": null,
      "outputs": [
        {
          "output_type": "stream",
          "name": "stdout",
          "text": [
            "# weights:  29\n",
            "initial  value 14727.180422 \n",
            "iter  10 value 1903.688474\n",
            "iter  20 value 1543.211546\n",
            "iter  30 value 944.609917\n",
            "iter  40 value 487.814270\n",
            "iter  50 value 399.238120\n",
            "iter  60 value 371.901198\n",
            "iter  70 value 359.200787\n",
            "iter  80 value 352.779072\n",
            "iter  90 value 343.421509\n",
            "iter 100 value 337.067411\n",
            "iter 110 value 336.047610\n",
            "iter 120 value 335.703871\n",
            "iter 130 value 335.689132\n",
            "iter 140 value 335.674164\n",
            "iter 150 value 335.661640\n",
            "iter 150 value 335.661640\n",
            "iter 150 value 335.661640\n",
            "final  value 335.661640 \n",
            "converged\n",
            "# weights:  43\n",
            "initial  value 31263.319832 \n",
            "iter  10 value 535.780137\n",
            "iter  20 value 456.581005\n",
            "iter  30 value 403.224330\n",
            "iter  40 value 374.906933\n",
            "iter  50 value 345.467302\n",
            "iter  60 value 334.863424\n",
            "iter  70 value 332.765681\n",
            "iter  80 value 329.646098\n",
            "iter  90 value 328.128198\n",
            "iter 100 value 327.854059\n",
            "iter 110 value 327.469542\n",
            "iter 120 value 327.205258\n",
            "iter 130 value 327.109614\n",
            "iter 140 value 326.951832\n",
            "iter 150 value 325.882232\n",
            "iter 160 value 323.171497\n",
            "iter 170 value 321.429921\n",
            "iter 180 value 321.171982\n",
            "iter 190 value 321.075789\n",
            "iter 200 value 320.960655\n",
            "iter 210 value 320.843428\n",
            "iter 220 value 320.588227\n",
            "iter 230 value 320.390408\n",
            "iter 240 value 319.726382\n",
            "iter 250 value 318.785079\n",
            "iter 260 value 317.352593\n",
            "iter 270 value 317.099961\n",
            "iter 280 value 316.986339\n",
            "iter 290 value 316.893860\n",
            "iter 300 value 316.883496\n",
            "final  value 316.883312 \n",
            "converged\n",
            "# weights:  71\n",
            "initial  value 17354.647434 \n",
            "iter  10 value 696.943091\n",
            "iter  20 value 518.240129\n",
            "iter  30 value 449.797434\n",
            "iter  40 value 403.821609\n",
            "iter  50 value 378.822468\n",
            "iter  60 value 363.972920\n",
            "iter  70 value 346.537229\n",
            "iter  80 value 334.673395\n",
            "iter  90 value 324.896499\n",
            "iter 100 value 321.181465\n",
            "iter 110 value 317.833888\n",
            "iter 120 value 314.835868\n",
            "iter 130 value 311.832173\n",
            "iter 140 value 308.504635\n",
            "iter 150 value 307.361586\n",
            "iter 160 value 306.255945\n",
            "iter 170 value 305.694016\n",
            "iter 180 value 305.216816\n",
            "iter 190 value 304.777132\n",
            "iter 200 value 304.585817\n",
            "iter 210 value 304.439989\n",
            "iter 220 value 304.385627\n",
            "iter 230 value 304.348505\n",
            "iter 240 value 304.321451\n",
            "iter 250 value 304.317111\n",
            "final  value 304.316662 \n",
            "converged\n",
            "# weights:  29\n",
            "initial  value 13447.108059 \n",
            "iter  10 value 711.704468\n",
            "iter  20 value 569.881645\n",
            "iter  30 value 459.248747\n",
            "iter  40 value 395.064859\n",
            "iter  50 value 377.497136\n",
            "iter  60 value 362.803442\n",
            "iter  70 value 355.545860\n",
            "iter  80 value 353.242768\n",
            "iter  90 value 350.159765\n",
            "iter 100 value 347.715389\n",
            "iter 110 value 346.001926\n",
            "iter 120 value 342.526574\n",
            "iter 130 value 341.488171\n",
            "iter 140 value 340.529470\n",
            "iter 150 value 339.414164\n",
            "iter 160 value 337.969259\n",
            "iter 170 value 337.446181\n",
            "iter 180 value 337.297680\n",
            "iter 190 value 337.245189\n",
            "iter 200 value 337.224415\n",
            "iter 210 value 337.213205\n",
            "iter 210 value 337.213205\n",
            "iter 210 value 337.213205\n",
            "final  value 337.213205 \n",
            "converged\n",
            "# weights:  43\n",
            "initial  value 15355.819268 \n",
            "iter  10 value 699.952455\n",
            "iter  20 value 568.409105\n",
            "iter  30 value 482.596302\n",
            "iter  40 value 392.142554\n",
            "iter  50 value 363.153475\n",
            "iter  60 value 353.005543\n",
            "iter  70 value 341.801965\n",
            "iter  80 value 337.665617\n",
            "iter  90 value 335.223951\n",
            "iter 100 value 334.350466\n",
            "iter 110 value 333.187170\n",
            "iter 120 value 332.202301\n",
            "iter 130 value 331.105990\n",
            "iter 140 value 330.521188\n",
            "iter 150 value 330.312992\n",
            "iter 160 value 327.329834\n",
            "iter 170 value 325.685183\n",
            "iter 180 value 325.235028\n",
            "iter 190 value 324.928413\n",
            "iter 200 value 324.488218\n",
            "iter 210 value 324.329430\n",
            "iter 220 value 324.202434\n",
            "iter 230 value 323.303153\n",
            "iter 240 value 321.302402\n",
            "iter 250 value 320.771851\n",
            "iter 260 value 320.568623\n",
            "iter 270 value 320.554895\n",
            "iter 280 value 320.515669\n",
            "iter 290 value 320.485146\n",
            "iter 300 value 320.449956\n",
            "iter 310 value 320.392661\n",
            "iter 320 value 320.373031\n",
            "final  value 320.372754 \n",
            "converged\n",
            "# weights:  71\n",
            "initial  value 39924.477839 \n",
            "iter  10 value 413.365041\n",
            "iter  20 value 363.279663\n",
            "iter  30 value 343.810428\n",
            "iter  40 value 333.160155\n",
            "iter  50 value 324.243659\n",
            "iter  60 value 319.507049\n",
            "iter  70 value 316.406887\n",
            "iter  80 value 314.403307\n",
            "iter  90 value 313.154171\n",
            "iter 100 value 310.784321\n",
            "iter 110 value 308.536117\n",
            "iter 120 value 307.951976\n",
            "iter 130 value 307.430737\n",
            "iter 140 value 306.895458\n",
            "iter 150 value 306.341523\n",
            "iter 160 value 305.509255\n",
            "iter 170 value 305.046380\n",
            "iter 180 value 304.895485\n",
            "iter 190 value 304.775309\n",
            "iter 200 value 304.719327\n",
            "iter 210 value 304.681209\n",
            "iter 220 value 304.657493\n",
            "iter 230 value 304.650536\n",
            "final  value 304.650530 \n",
            "converged\n",
            "# weights:  29\n",
            "initial  value 10576.557262 \n",
            "iter  10 value 963.589947\n",
            "iter  20 value 680.197152\n",
            "iter  30 value 580.084004\n",
            "iter  40 value 442.505112\n",
            "iter  50 value 367.302197\n",
            "iter  60 value 348.677957\n",
            "iter  70 value 346.255109\n",
            "iter  80 value 344.618917\n",
            "iter  90 value 342.587279\n",
            "iter 100 value 341.369806\n",
            "iter 110 value 340.497705\n",
            "iter 120 value 338.821602\n",
            "iter 130 value 338.233197\n",
            "iter 140 value 336.391205\n",
            "iter 150 value 330.909817\n",
            "iter 160 value 326.590625\n",
            "iter 170 value 326.003383\n",
            "iter 180 value 325.656039\n",
            "iter 190 value 325.198127\n",
            "iter 200 value 324.708856\n",
            "iter 210 value 324.155667\n",
            "iter 220 value 323.823830\n",
            "final  value 323.819752 \n",
            "converged\n",
            "# weights:  43\n",
            "initial  value 26311.877382 \n",
            "iter  10 value 454.280587\n",
            "iter  20 value 402.475669\n",
            "iter  30 value 380.126522\n",
            "iter  40 value 355.001650\n",
            "iter  50 value 345.794692\n",
            "iter  60 value 338.854910\n",
            "iter  70 value 333.736476\n",
            "iter  80 value 330.740699\n",
            "iter  90 value 329.750980\n",
            "iter 100 value 328.789764\n",
            "iter 110 value 327.702621\n",
            "iter 120 value 326.517089\n",
            "iter 130 value 324.910066\n",
            "iter 140 value 323.369498\n",
            "iter 150 value 322.920524\n",
            "iter 160 value 322.737961\n",
            "iter 170 value 322.322001\n",
            "iter 180 value 321.892679\n",
            "iter 190 value 321.511917\n",
            "iter 200 value 321.191235\n",
            "iter 210 value 321.024365\n",
            "iter 220 value 318.830231\n",
            "iter 230 value 313.240411\n",
            "iter 240 value 310.752800\n",
            "iter 250 value 310.287475\n",
            "iter 260 value 310.028694\n",
            "iter 270 value 309.986468\n",
            "iter 280 value 309.949820\n",
            "iter 290 value 309.914643\n",
            "iter 300 value 309.904995\n",
            "iter 310 value 309.890751\n",
            "iter 320 value 309.887336\n",
            "iter 320 value 309.887335\n",
            "iter 320 value 309.887335\n",
            "final  value 309.887335 \n",
            "converged\n",
            "# weights:  71\n",
            "initial  value 11849.757108 \n",
            "iter  10 value 666.333701\n",
            "iter  20 value 537.108715\n",
            "iter  30 value 441.348090\n",
            "iter  40 value 388.365014\n",
            "iter  50 value 368.273507\n",
            "iter  60 value 347.013557\n",
            "iter  70 value 331.665270\n",
            "iter  80 value 319.903721\n",
            "iter  90 value 313.796416\n",
            "iter 100 value 309.771800\n",
            "iter 110 value 303.170606\n",
            "iter 120 value 298.456126\n",
            "iter 130 value 295.485443\n",
            "iter 140 value 293.341288\n",
            "iter 150 value 292.849146\n",
            "iter 160 value 292.531781\n",
            "iter 170 value 292.119215\n",
            "iter 180 value 292.041534\n",
            "iter 190 value 291.969120\n",
            "iter 200 value 291.930723\n",
            "iter 210 value 291.872510\n",
            "iter 220 value 291.833468\n",
            "iter 230 value 291.792274\n",
            "iter 240 value 291.764880\n",
            "iter 250 value 291.754502\n",
            "iter 260 value 291.753138\n",
            "iter 270 value 291.752878\n",
            "iter 280 value 291.752772\n",
            "final  value 291.752739 \n",
            "converged\n",
            "# weights:  29\n",
            "initial  value 12312.845732 \n",
            "iter  10 value 774.894187\n",
            "iter  20 value 607.988740\n",
            "iter  30 value 465.919528\n",
            "iter  40 value 413.817975\n",
            "iter  50 value 399.574185\n",
            "iter  60 value 394.102333\n",
            "iter  70 value 378.738584\n",
            "iter  80 value 373.294382\n",
            "iter  90 value 366.381047\n",
            "iter 100 value 355.078164\n",
            "iter 110 value 353.133754\n",
            "iter 120 value 352.205492\n",
            "iter 130 value 349.931649\n",
            "iter 140 value 347.393247\n",
            "iter 150 value 344.745442\n",
            "iter 160 value 343.995218\n",
            "iter 170 value 343.346772\n",
            "iter 180 value 342.858295\n",
            "iter 190 value 342.541296\n",
            "iter 200 value 342.333763\n",
            "iter 210 value 342.331768\n",
            "final  value 342.331740 \n",
            "converged\n",
            "# weights:  43\n",
            "initial  value 11221.519431 \n",
            "iter  10 value 476.577897\n",
            "iter  20 value 429.349577\n",
            "iter  30 value 402.323394\n",
            "iter  40 value 377.373512\n",
            "iter  50 value 367.796074\n",
            "iter  60 value 362.122428\n",
            "iter  70 value 356.417359\n",
            "iter  80 value 351.021982\n",
            "iter  90 value 346.299454\n",
            "iter 100 value 344.756061\n",
            "iter 110 value 342.604492\n",
            "iter 120 value 341.347615\n",
            "iter 130 value 340.647339\n",
            "iter 140 value 340.063839\n",
            "iter 150 value 339.796060\n",
            "iter 160 value 339.678850\n",
            "iter 170 value 339.627946\n",
            "iter 180 value 339.626076\n",
            "iter 190 value 339.625785\n",
            "iter 200 value 339.625177\n",
            "iter 210 value 339.624741\n",
            "final  value 339.624696 \n",
            "converged\n",
            "# weights:  71\n",
            "initial  value 19460.306784 \n",
            "iter  10 value 438.386453\n",
            "iter  20 value 378.144763\n",
            "iter  30 value 360.425453\n",
            "iter  40 value 346.507278\n",
            "iter  50 value 335.129758\n",
            "iter  60 value 329.132778\n",
            "iter  70 value 324.395526\n",
            "iter  80 value 320.705234\n",
            "iter  90 value 318.916183\n",
            "iter 100 value 315.989327\n",
            "iter 110 value 314.253149\n",
            "iter 120 value 312.616870\n",
            "iter 130 value 312.129452\n",
            "iter 140 value 311.949048\n",
            "iter 150 value 311.846230\n",
            "iter 160 value 311.688558\n",
            "iter 170 value 311.511853\n",
            "iter 180 value 311.440780\n",
            "iter 190 value 311.396010\n",
            "iter 200 value 311.377430\n",
            "iter 210 value 311.349702\n",
            "iter 220 value 311.339517\n",
            "iter 230 value 311.337376\n",
            "iter 240 value 311.269188\n",
            "iter 250 value 311.042167\n",
            "iter 260 value 310.966247\n",
            "iter 270 value 310.954402\n",
            "iter 280 value 310.946528\n",
            "final  value 310.945868 \n",
            "converged\n",
            "# weights:  29\n",
            "initial  value 18256.956136 \n",
            "iter  10 value 1053.648575\n",
            "iter  20 value 905.360643\n",
            "iter  30 value 651.851800\n",
            "iter  40 value 461.750106\n",
            "iter  50 value 369.817251\n",
            "iter  60 value 355.707627\n",
            "iter  70 value 345.625468\n",
            "iter  80 value 333.205926\n",
            "iter  90 value 329.626020\n",
            "iter 100 value 329.229901\n",
            "iter 110 value 328.520812\n",
            "iter 120 value 328.092580\n",
            "iter 130 value 327.628960\n",
            "iter 140 value 327.387210\n",
            "final  value 327.381429 \n",
            "converged\n",
            "# weights:  43\n",
            "initial  value 19898.055438 \n",
            "iter  10 value 669.517135\n",
            "iter  20 value 577.800213\n",
            "iter  30 value 484.198479\n",
            "iter  40 value 412.586688\n",
            "iter  50 value 375.419045\n",
            "iter  60 value 357.092751\n",
            "iter  70 value 345.110498\n",
            "iter  80 value 336.694305\n",
            "iter  90 value 326.749703\n",
            "iter 100 value 323.059109\n",
            "iter 110 value 320.430979\n",
            "iter 120 value 319.214090\n",
            "iter 130 value 317.706799\n",
            "iter 140 value 315.244766\n",
            "iter 150 value 313.581045\n",
            "iter 160 value 312.638902\n",
            "iter 170 value 312.278513\n",
            "iter 180 value 312.198959\n",
            "iter 190 value 312.190060\n",
            "iter 200 value 312.183182\n",
            "iter 210 value 312.179188\n",
            "iter 220 value 312.148265\n",
            "iter 230 value 312.010887\n",
            "iter 240 value 311.836708\n",
            "iter 250 value 311.576060\n",
            "iter 260 value 311.346733\n",
            "iter 270 value 311.286961\n",
            "iter 280 value 311.244712\n",
            "iter 290 value 311.201138\n",
            "iter 300 value 311.188068\n",
            "iter 310 value 311.186066\n",
            "final  value 311.186038 \n",
            "converged\n",
            "# weights:  71\n",
            "initial  value 9699.275769 \n",
            "iter  10 value 458.987861\n",
            "iter  20 value 391.861334\n",
            "iter  30 value 356.662496\n",
            "iter  40 value 338.050888\n",
            "iter  50 value 326.870961\n",
            "iter  60 value 322.959244\n",
            "iter  70 value 319.416259\n",
            "iter  80 value 316.402431\n",
            "iter  90 value 314.666997\n",
            "iter 100 value 313.136814\n",
            "iter 110 value 311.345035\n",
            "iter 120 value 309.402219\n",
            "iter 130 value 306.588944\n",
            "iter 140 value 302.886209\n",
            "iter 150 value 302.168454\n",
            "iter 160 value 301.787415\n",
            "iter 170 value 301.363739\n",
            "iter 180 value 300.475562\n",
            "iter 190 value 299.712180\n",
            "iter 200 value 299.167058\n",
            "iter 210 value 298.679294\n",
            "iter 220 value 298.560844\n",
            "iter 230 value 298.356336\n",
            "iter 240 value 298.233088\n",
            "iter 250 value 298.119546\n",
            "iter 260 value 298.053858\n",
            "iter 270 value 298.027012\n",
            "iter 280 value 298.019139\n",
            "iter 290 value 298.009469\n",
            "iter 300 value 298.008766\n",
            "iter 310 value 298.008531\n",
            "iter 310 value 298.008528\n",
            "iter 310 value 298.008528\n",
            "final  value 298.008528 \n",
            "converged\n",
            "# weights:  71\n",
            "initial  value 27752.681116 \n",
            "iter  10 value 1116.710365\n",
            "iter  20 value 785.792618\n",
            "iter  30 value 675.819568\n",
            "iter  40 value 607.996545\n",
            "iter  50 value 556.735583\n",
            "iter  60 value 520.808507\n",
            "iter  70 value 475.902144\n",
            "iter  80 value 457.224348\n",
            "iter  90 value 441.342686\n",
            "iter 100 value 428.184773\n",
            "iter 110 value 419.278909\n",
            "iter 120 value 411.275815\n",
            "iter 130 value 404.316127\n",
            "iter 140 value 397.286847\n",
            "iter 150 value 395.173389\n",
            "iter 160 value 392.702267\n",
            "iter 170 value 390.142916\n",
            "iter 180 value 387.035225\n",
            "iter 190 value 384.783648\n",
            "iter 200 value 383.261462\n",
            "iter 210 value 382.184533\n",
            "iter 220 value 380.789258\n",
            "iter 230 value 379.596452\n",
            "iter 240 value 379.072194\n",
            "iter 250 value 378.655565\n",
            "iter 260 value 378.402033\n",
            "iter 270 value 378.251450\n",
            "iter 280 value 378.176573\n",
            "iter 290 value 378.158616\n",
            "iter 300 value 378.153451\n",
            "iter 310 value 378.146952\n",
            "iter 320 value 378.143773\n",
            "iter 330 value 378.142776\n",
            "final  value 378.142698 \n",
            "converged\n"
          ]
        },
        {
          "output_type": "display_data",
          "data": {
            "text/plain": [
              "Neural Network \n",
              "\n",
              "5022 samples\n",
              "  12 predictor\n",
              "\n",
              "Pre-processing: centered (12), scaled (12) \n",
              "Resampling: Cross-Validated (5 fold) \n",
              "Summary of sample sizes: 3923, 3923, 3923, 3924, 3923 \n",
              "Resampling results across tuning parameters:\n",
              "\n",
              "  size  RMSE       Rsquared   MAE      \n",
              "  2     0.2901880  0.8905813  0.2203990\n",
              "  3     0.2854232  0.8942211  0.2152695\n",
              "  5     0.2787731  0.8989574  0.2090165\n",
              "\n",
              "Tuning parameter 'decay' was held constant at a value of 0.5\n",
              "RMSE was used to select the optimal model using the smallest value.\n",
              "The final values used for the model were size = 5 and decay = 0.5."
            ]
          },
          "metadata": {}
        }
      ]
    },
    {
      "cell_type": "markdown",
      "source": [
        "### Examine model"
      ],
      "metadata": {
        "id": "GJ3629EUNQDs"
      }
    },
    {
      "cell_type": "code",
      "source": [
        "getTrainPerf(nnet_fit)"
      ],
      "metadata": {
        "id": "TUWQCJ6ERJMn",
        "colab": {
          "base_uri": "https://localhost:8080/",
          "height": 129
        },
        "outputId": "7cc40ae0-73d5-4fcd-f65d-2b73748dbabb"
      },
      "execution_count": null,
      "outputs": [
        {
          "output_type": "display_data",
          "data": {
            "text/html": [
              "<table class=\"dataframe\">\n",
              "<caption>A data.frame: 1 × 4</caption>\n",
              "<thead>\n",
              "\t<tr><th scope=col>TrainRMSE</th><th scope=col>TrainRsquared</th><th scope=col>TrainMAE</th><th scope=col>method</th></tr>\n",
              "\t<tr><th scope=col>&lt;dbl&gt;</th><th scope=col>&lt;dbl&gt;</th><th scope=col>&lt;dbl&gt;</th><th scope=col>&lt;chr&gt;</th></tr>\n",
              "</thead>\n",
              "<tbody>\n",
              "\t<tr><td>0.2787731</td><td>0.8989574</td><td>0.2090165</td><td>nnet</td></tr>\n",
              "</tbody>\n",
              "</table>\n"
            ],
            "text/markdown": "\nA data.frame: 1 × 4\n\n| TrainRMSE &lt;dbl&gt; | TrainRsquared &lt;dbl&gt; | TrainMAE &lt;dbl&gt; | method &lt;chr&gt; |\n|---|---|---|---|\n| 0.2787731 | 0.8989574 | 0.2090165 | nnet |\n\n",
            "text/latex": "A data.frame: 1 × 4\n\\begin{tabular}{llll}\n TrainRMSE & TrainRsquared & TrainMAE & method\\\\\n <dbl> & <dbl> & <dbl> & <chr>\\\\\n\\hline\n\t 0.2787731 & 0.8989574 & 0.2090165 & nnet\\\\\n\\end{tabular}\n",
            "text/plain": [
              "  TrainRMSE TrainRsquared TrainMAE  method\n",
              "1 0.2787731 0.8989574     0.2090165 nnet  "
            ]
          },
          "metadata": {}
        }
      ]
    },
    {
      "cell_type": "code",
      "source": [
        "plotnet(nnet_fit)"
      ],
      "metadata": {
        "id": "aFprcP8CLWvX",
        "colab": {
          "base_uri": "https://localhost:8080/",
          "height": 437
        },
        "outputId": "174fc54c-2462-4f9e-ad4e-11fd206d1b89"
      },
      "execution_count": null,
      "outputs": [
        {
          "output_type": "display_data",
          "data": {
            "text/plain": [
              "plot without title"
            ],
            "image/png": "[encoded data removed]"
          },
          "metadata": {
            "image/png": {
              "width": 420,
              "height": 420
            }
          }
        }
      ]
    },
    {
      "cell_type": "code",
      "source": [
        "olden(nnet_fit) + theme(axis.text.x = element_text(angle = 90, vjust = 0.5, hjust=1))"
      ],
      "metadata": {
        "id": "I6kO_BFpQtnd",
        "colab": {
          "base_uri": "https://localhost:8080/",
          "height": 437
        },
        "outputId": "08d662b7-cc0b-4e5c-82b5-7cc55eb0fae9"
      },
      "execution_count": null,
      "outputs": [
        {
          "output_type": "display_data",
          "data": {
            "text/plain": [
              "plot without title"
            ],
            "image/png": "[encoded data removed]"
          },
          "metadata": {
            "image/png": {
              "width": 420,
              "height": 420
            }
          }
        }
      ]
    },
    {
      "cell_type": "markdown",
      "source": [
        "## **DO NOT Fit a Random Forest**"
      ],
      "metadata": {
        "id": "tlc3GXmIx8q6"
      }
    },
    {
      "cell_type": "code",
      "source": [
        "##set.seed(3333)\n",
        "##rf_fit <- train(\n",
        "##        Price ~ . , data = train, method = \"rf\",\n",
        "##        trControl = trctrl, na.action = na.omit)       "
      ],
      "metadata": {
        "id": "BUYb-bjhx-kI"
      },
      "execution_count": null,
      "outputs": []
    },
    {
      "cell_type": "markdown",
      "source": [
        "## Compare Results"
      ],
      "metadata": {
        "id": "CBEbsWs8NMHb"
      }
    },
    {
      "cell_type": "code",
      "source": [
        "rbind(getTrainPerf(lm_fit), getTrainPerf(knn_fit), getTrainPerf(xgb_fit), getTrainPerf(nnet_fit))"
      ],
      "metadata": {
        "id": "IzL-wMsIM47n",
        "colab": {
          "base_uri": "https://localhost:8080/",
          "height": 223
        },
        "outputId": "e2ffb21a-700e-4d22-9ab1-182eacd0a2bf"
      },
      "execution_count": null,
      "outputs": [
        {
          "output_type": "display_data",
          "data": {
            "text/html": [
              "<table class=\"dataframe\">\n",
              "<caption>A data.frame: 4 × 4</caption>\n",
              "<thead>\n",
              "\t<tr><th scope=col>TrainRMSE</th><th scope=col>TrainRsquared</th><th scope=col>TrainMAE</th><th scope=col>method</th></tr>\n",
              "\t<tr><th scope=col>&lt;dbl&gt;</th><th scope=col>&lt;dbl&gt;</th><th scope=col>&lt;dbl&gt;</th><th scope=col>&lt;chr&gt;</th></tr>\n",
              "</thead>\n",
              "<tbody>\n",
              "\t<tr><td>0.3120900</td><td>0.8736382</td><td>0.2366883</td><td>lm     </td></tr>\n",
              "\t<tr><td>0.2892229</td><td>0.8913730</td><td>0.2085350</td><td>knn    </td></tr>\n",
              "\t<tr><td>0.2315142</td><td>0.9301720</td><td>0.1698605</td><td>xgbTree</td></tr>\n",
              "\t<tr><td>0.2787731</td><td>0.8989574</td><td>0.2090165</td><td>nnet   </td></tr>\n",
              "</tbody>\n",
              "</table>\n"
            ],
            "text/markdown": "\nA data.frame: 4 × 4\n\n| TrainRMSE &lt;dbl&gt; | TrainRsquared &lt;dbl&gt; | TrainMAE &lt;dbl&gt; | method &lt;chr&gt; |\n|---|---|---|---|\n| 0.3120900 | 0.8736382 | 0.2366883 | lm      |\n| 0.2892229 | 0.8913730 | 0.2085350 | knn     |\n| 0.2315142 | 0.9301720 | 0.1698605 | xgbTree |\n| 0.2787731 | 0.8989574 | 0.2090165 | nnet    |\n\n",
            "text/latex": "A data.frame: 4 × 4\n\\begin{tabular}{llll}\n TrainRMSE & TrainRsquared & TrainMAE & method\\\\\n <dbl> & <dbl> & <dbl> & <chr>\\\\\n\\hline\n\t 0.3120900 & 0.8736382 & 0.2366883 & lm     \\\\\n\t 0.2892229 & 0.8913730 & 0.2085350 & knn    \\\\\n\t 0.2315142 & 0.9301720 & 0.1698605 & xgbTree\\\\\n\t 0.2787731 & 0.8989574 & 0.2090165 & nnet   \\\\\n\\end{tabular}\n",
            "text/plain": [
              "  TrainRMSE TrainRsquared TrainMAE  method \n",
              "1 0.3120900 0.8736382     0.2366883 lm     \n",
              "2 0.2892229 0.8913730     0.2085350 knn    \n",
              "3 0.2315142 0.9301720     0.1698605 xgbTree\n",
              "4 0.2787731 0.8989574     0.2090165 nnet   "
            ]
          },
          "metadata": {}
        }
      ]
    },
    {
      "cell_type": "markdown",
      "source": [
        "## RMSE on Test Set"
      ],
      "metadata": {
        "id": "e_If7B2f2rTH"
      }
    },
    {
      "cell_type": "markdown",
      "source": [
        "First, we use the `predict()` function to apply our model to the test set. "
      ],
      "metadata": {
        "id": "TSaI1TDxgwSt"
      }
    },
    {
      "cell_type": "code",
      "source": [
        "test <- na.omit(test)\n",
        "test$testPreds <- predict(xgb_fit, test)"
      ],
      "metadata": {
        "id": "LDQm4qS12vMX"
      },
      "execution_count": null,
      "outputs": []
    },
    {
      "cell_type": "markdown",
      "source": [
        "Next, we can use the `RMSE()` function from the `MLmetrics` package to calculate the model's accuracy on the test set. "
      ],
      "metadata": {
        "id": "spDlgrZvg0pE"
      }
    },
    {
      "cell_type": "code",
      "source": [
        "RMSE(test$testPreds, test$Price)"
      ],
      "metadata": {
        "id": "arxxHcpk25QD",
        "colab": {
          "base_uri": "https://localhost:8080/",
          "height": 34
        },
        "outputId": "50df45ef-d56d-4d03-f3e3-4c9b82d038df"
      },
      "execution_count": null,
      "outputs": [
        {
          "output_type": "display_data",
          "data": {
            "text/html": [
              "0.228685130049677"
            ],
            "text/markdown": "0.228685130049677",
            "text/latex": "0.228685130049677",
            "text/plain": [
              "[1] 0.2286851"
            ]
          },
          "metadata": {}
        }
      ]
    },
    {
      "cell_type": "code",
      "source": [
        "## Just for fun compare to predictions from the nnet\n",
        "RMSE(predict(nnet_fit,test), test$Price)"
      ],
      "metadata": {
        "id": "92KVWYChxlSx",
        "colab": {
          "base_uri": "https://localhost:8080/",
          "height": 34
        },
        "outputId": "ab28302a-aafd-4846-8e65-e211322f8dc4"
      },
      "execution_count": null,
      "outputs": [
        {
          "output_type": "display_data",
          "data": {
            "text/html": [
              "0.297455275517245"
            ],
            "text/markdown": "0.297455275517245",
            "text/latex": "0.297455275517245",
            "text/plain": [
              "[1] 0.2974553"
            ]
          },
          "metadata": {}
        }
      ]
    },
    {
      "cell_type": "markdown",
      "source": [
        "Finally, let's plot our models predictions against the true values (recall that we are working with logged price). "
      ],
      "metadata": {
        "id": "zQbrF7xpUcBl"
      }
    },
    {
      "cell_type": "code",
      "source": [
        "plot(test$Price, predict(xgb_fit,test))"
      ],
      "metadata": {
        "id": "QhtwsWjsSVdA",
        "colab": {
          "base_uri": "https://localhost:8080/",
          "height": 437
        },
        "outputId": "c6689683-e38c-47e3-a800-3e4c4082b8b9"
      },
      "execution_count": null,
      "outputs": [
        {
          "output_type": "display_data",
          "data": {
            "text/plain": [
              "plot without title"
            ],
            "image/png": "[encoded data removed]"
          },
          "metadata": {
            "image/png": {
              "width": 420,
              "height": 420
            }
          }
        }
      ]
    },
    {
      "cell_type": "markdown",
      "metadata": {
        "id": "p_XqEkt-k4fc"
      },
      "source": [
        "\n",
        "# **Carvana: IsBadBuy?**\n",
        "\n",
        "Now let's return to the Carvana data we saw in previous classes, where the goal is to predict whether or not a car is a lemon. "
      ]
    },
    {
      "cell_type": "markdown",
      "metadata": {
        "id": "uPT-C0BBlpFY"
      },
      "source": [
        "## **Investigate Data**"
      ]
    },
    {
      "cell_type": "code",
      "metadata": {
        "id": "unilebNMk4fd",
        "colab": {
          "base_uri": "https://localhost:8080/",
          "height": 622
        },
        "outputId": "6f055190-fe3f-4fc3-cd2d-f94382c6c489"
      },
      "source": [
        "carvana.data <- read_csv(\"http://www.dsm.business/data/carvana_data_training.csv\", na=c(\"NULL\"))\n",
        "carvana.data <- carvana.data[complete.cases(carvana.data), ]\n",
        "head(carvana.data)"
      ],
      "execution_count": null,
      "outputs": [
        {
          "output_type": "stream",
          "name": "stderr",
          "text": [
            "\u001b[1mRows: \u001b[22m\u001b[34m72983\u001b[39m \u001b[1mColumns: \u001b[22m\u001b[34m34\u001b[39m\n",
            "\u001b[36m──\u001b[39m \u001b[1mColumn specification\u001b[22m \u001b[36m────────────────────────────────────────────────────────\u001b[39m\n",
            "\u001b[1mDelimiter:\u001b[22m \",\"\n",
            "\u001b[31mchr\u001b[39m (15): PurchDate, Auction, Make, Model, Trim, SubModel, Color, Transmissi...\n",
            "\u001b[32mdbl\u001b[39m (19): RefId, IsBadBuy, VehYear, VehicleAge, WheelTypeID, VehOdo, MMRAcqu...\n",
            "\n",
            "\u001b[36mℹ\u001b[39m Use `spec()` to retrieve the full column specification for this data.\n",
            "\u001b[36mℹ\u001b[39m Specify the column types or set `show_col_types = FALSE` to quiet this message.\n"
          ]
        },
        {
          "output_type": "display_data",
          "data": {
            "text/html": [
              "<table class=\"dataframe\">\n",
              "<caption>A tibble: 6 × 34</caption>\n",
              "<thead>\n",
              "\t<tr><th scope=col>RefId</th><th scope=col>IsBadBuy</th><th scope=col>PurchDate</th><th scope=col>Auction</th><th scope=col>VehYear</th><th scope=col>VehicleAge</th><th scope=col>Make</th><th scope=col>Model</th><th scope=col>Trim</th><th scope=col>SubModel</th><th scope=col>⋯</th><th scope=col>MMRCurrentRetailAveragePrice</th><th scope=col>MMRCurrentRetailCleanPrice</th><th scope=col>PRIMEUNIT</th><th scope=col>AUCGUART</th><th scope=col>BYRNO</th><th scope=col>VNZIP1</th><th scope=col>VNST</th><th scope=col>VehBCost</th><th scope=col>IsOnlineSale</th><th scope=col>WarrantyCost</th></tr>\n",
              "\t<tr><th scope=col>&lt;dbl&gt;</th><th scope=col>&lt;dbl&gt;</th><th scope=col>&lt;chr&gt;</th><th scope=col>&lt;chr&gt;</th><th scope=col>&lt;dbl&gt;</th><th scope=col>&lt;dbl&gt;</th><th scope=col>&lt;chr&gt;</th><th scope=col>&lt;chr&gt;</th><th scope=col>&lt;chr&gt;</th><th scope=col>&lt;chr&gt;</th><th scope=col>⋯</th><th scope=col>&lt;dbl&gt;</th><th scope=col>&lt;dbl&gt;</th><th scope=col>&lt;chr&gt;</th><th scope=col>&lt;chr&gt;</th><th scope=col>&lt;dbl&gt;</th><th scope=col>&lt;dbl&gt;</th><th scope=col>&lt;chr&gt;</th><th scope=col>&lt;dbl&gt;</th><th scope=col>&lt;dbl&gt;</th><th scope=col>&lt;dbl&gt;</th></tr>\n",
              "</thead>\n",
              "<tbody>\n",
              "\t<tr><td>276</td><td>0</td><td>10/4/2010 </td><td>ADESA</td><td>2003</td><td>7</td><td>HYUNDAI  </td><td>ACCENT              </td><td>GL </td><td>4D SEDAN GL        </td><td>⋯</td><td> 5332</td><td> 6887</td><td>NO</td><td>GREEN</td><td> 5546</td><td>33619</td><td>FL</td><td>4500</td><td>0</td><td>1054</td></tr>\n",
              "\t<tr><td>291</td><td>0</td><td>10/11/2010</td><td>ADESA</td><td>2005</td><td>5</td><td>CHEVROLET</td><td>1500 SILVERADO PICKU</td><td>Bas</td><td>REG CAB 4.3L       </td><td>⋯</td><td> 9264</td><td>11033</td><td>NO</td><td>GREEN</td><td>19638</td><td>33619</td><td>FL</td><td>7100</td><td>0</td><td> 905</td></tr>\n",
              "\t<tr><td>298</td><td>0</td><td>10/18/2010</td><td>ADESA</td><td>2006</td><td>4</td><td>CHEVROLET</td><td>EQUINOX FWD V6      </td><td>LS </td><td>4D SUV LS          </td><td>⋯</td><td>11543</td><td>13228</td><td>NO</td><td>GREEN</td><td> 5546</td><td>33619</td><td>FL</td><td>8950</td><td>0</td><td>1215</td></tr>\n",
              "\t<tr><td>306</td><td>0</td><td>10/25/2010</td><td>ADESA</td><td>2004</td><td>6</td><td>CHRYSLER </td><td>PT CRUISER          </td><td>Bas</td><td>4D SEDAN           </td><td>⋯</td><td> 6691</td><td> 7438</td><td>NO</td><td>GREEN</td><td> 5546</td><td>33619</td><td>FL</td><td>4600</td><td>0</td><td>1389</td></tr>\n",
              "\t<tr><td>315</td><td>0</td><td>10/25/2010</td><td>ADESA</td><td>2002</td><td>8</td><td>MERCURY  </td><td>SABLE               </td><td>LS </td><td>4D SEDAN LS PREMIUM</td><td>⋯</td><td> 5816</td><td> 6883</td><td>NO</td><td>GREEN</td><td> 5546</td><td>33619</td><td>FL</td><td>4200</td><td>0</td><td>1353</td></tr>\n",
              "\t<tr><td>322</td><td>0</td><td>10/25/2010</td><td>ADESA</td><td>2006</td><td>4</td><td>PONTIAC  </td><td>GRAND PRIX          </td><td>Bas</td><td>4D SEDAN           </td><td>⋯</td><td> 9367</td><td>10952</td><td>NO</td><td>GREEN</td><td> 5546</td><td>33619</td><td>FL</td><td>5900</td><td>0</td><td>2351</td></tr>\n",
              "</tbody>\n",
              "</table>\n"
            ],
            "text/markdown": "\nA tibble: 6 × 34\n\n| RefId &lt;dbl&gt; | IsBadBuy &lt;dbl&gt; | PurchDate &lt;chr&gt; | Auction &lt;chr&gt; | VehYear &lt;dbl&gt; | VehicleAge &lt;dbl&gt; | Make &lt;chr&gt; | Model &lt;chr&gt; | Trim &lt;chr&gt; | SubModel &lt;chr&gt; | ⋯ ⋯ | MMRCurrentRetailAveragePrice &lt;dbl&gt; | MMRCurrentRetailCleanPrice &lt;dbl&gt; | PRIMEUNIT &lt;chr&gt; | AUCGUART &lt;chr&gt; | BYRNO &lt;dbl&gt; | VNZIP1 &lt;dbl&gt; | VNST &lt;chr&gt; | VehBCost &lt;dbl&gt; | IsOnlineSale &lt;dbl&gt; | WarrantyCost &lt;dbl&gt; |\n|---|---|---|---|---|---|---|---|---|---|---|---|---|---|---|---|---|---|---|---|---|\n| 276 | 0 | 10/4/2010  | ADESA | 2003 | 7 | HYUNDAI   | ACCENT               | GL  | 4D SEDAN GL         | ⋯ |  5332 |  6887 | NO | GREEN |  5546 | 33619 | FL | 4500 | 0 | 1054 |\n| 291 | 0 | 10/11/2010 | ADESA | 2005 | 5 | CHEVROLET | 1500 SILVERADO PICKU | Bas | REG CAB 4.3L        | ⋯ |  9264 | 11033 | NO | GREEN | 19638 | 33619 | FL | 7100 | 0 |  905 |\n| 298 | 0 | 10/18/2010 | ADESA | 2006 | 4 | CHEVROLET | EQUINOX FWD V6       | LS  | 4D SUV LS           | ⋯ | 11543 | 13228 | NO | GREEN |  5546 | 33619 | FL | 8950 | 0 | 1215 |\n| 306 | 0 | 10/25/2010 | ADESA | 2004 | 6 | CHRYSLER  | PT CRUISER           | Bas | 4D SEDAN            | ⋯ |  6691 |  7438 | NO | GREEN |  5546 | 33619 | FL | 4600 | 0 | 1389 |\n| 315 | 0 | 10/25/2010 | ADESA | 2002 | 8 | MERCURY   | SABLE                | LS  | 4D SEDAN LS PREMIUM | ⋯ |  5816 |  6883 | NO | GREEN |  5546 | 33619 | FL | 4200 | 0 | 1353 |\n| 322 | 0 | 10/25/2010 | ADESA | 2006 | 4 | PONTIAC   | GRAND PRIX           | Bas | 4D SEDAN            | ⋯ |  9367 | 10952 | NO | GREEN |  5546 | 33619 | FL | 5900 | 0 | 2351 |\n\n",
            "text/latex": "A tibble: 6 × 34\n\\begin{tabular}{lllllllllllllllllllll}\n RefId & IsBadBuy & PurchDate & Auction & VehYear & VehicleAge & Make & Model & Trim & SubModel & ⋯ & MMRCurrentRetailAveragePrice & MMRCurrentRetailCleanPrice & PRIMEUNIT & AUCGUART & BYRNO & VNZIP1 & VNST & VehBCost & IsOnlineSale & WarrantyCost\\\\\n <dbl> & <dbl> & <chr> & <chr> & <dbl> & <dbl> & <chr> & <chr> & <chr> & <chr> & ⋯ & <dbl> & <dbl> & <chr> & <chr> & <dbl> & <dbl> & <chr> & <dbl> & <dbl> & <dbl>\\\\\n\\hline\n\t 276 & 0 & 10/4/2010  & ADESA & 2003 & 7 & HYUNDAI   & ACCENT               & GL  & 4D SEDAN GL         & ⋯ &  5332 &  6887 & NO & GREEN &  5546 & 33619 & FL & 4500 & 0 & 1054\\\\\n\t 291 & 0 & 10/11/2010 & ADESA & 2005 & 5 & CHEVROLET & 1500 SILVERADO PICKU & Bas & REG CAB 4.3L        & ⋯ &  9264 & 11033 & NO & GREEN & 19638 & 33619 & FL & 7100 & 0 &  905\\\\\n\t 298 & 0 & 10/18/2010 & ADESA & 2006 & 4 & CHEVROLET & EQUINOX FWD V6       & LS  & 4D SUV LS           & ⋯ & 11543 & 13228 & NO & GREEN &  5546 & 33619 & FL & 8950 & 0 & 1215\\\\\n\t 306 & 0 & 10/25/2010 & ADESA & 2004 & 6 & CHRYSLER  & PT CRUISER           & Bas & 4D SEDAN            & ⋯ &  6691 &  7438 & NO & GREEN &  5546 & 33619 & FL & 4600 & 0 & 1389\\\\\n\t 315 & 0 & 10/25/2010 & ADESA & 2002 & 8 & MERCURY   & SABLE                & LS  & 4D SEDAN LS PREMIUM & ⋯ &  5816 &  6883 & NO & GREEN &  5546 & 33619 & FL & 4200 & 0 & 1353\\\\\n\t 322 & 0 & 10/25/2010 & ADESA & 2006 & 4 & PONTIAC   & GRAND PRIX           & Bas & 4D SEDAN            & ⋯ &  9367 & 10952 & NO & GREEN &  5546 & 33619 & FL & 5900 & 0 & 2351\\\\\n\\end{tabular}\n",
            "text/plain": [
              "  RefId IsBadBuy PurchDate  Auction VehYear VehicleAge Make     \n",
              "1 276   0        10/4/2010  ADESA   2003    7          HYUNDAI  \n",
              "2 291   0        10/11/2010 ADESA   2005    5          CHEVROLET\n",
              "3 298   0        10/18/2010 ADESA   2006    4          CHEVROLET\n",
              "4 306   0        10/25/2010 ADESA   2004    6          CHRYSLER \n",
              "5 315   0        10/25/2010 ADESA   2002    8          MERCURY  \n",
              "6 322   0        10/25/2010 ADESA   2006    4          PONTIAC  \n",
              "  Model                Trim SubModel            ⋯ MMRCurrentRetailAveragePrice\n",
              "1 ACCENT               GL   4D SEDAN GL         ⋯  5332                       \n",
              "2 1500 SILVERADO PICKU Bas  REG CAB 4.3L        ⋯  9264                       \n",
              "3 EQUINOX FWD V6       LS   4D SUV LS           ⋯ 11543                       \n",
              "4 PT CRUISER           Bas  4D SEDAN            ⋯  6691                       \n",
              "5 SABLE                LS   4D SEDAN LS PREMIUM ⋯  5816                       \n",
              "6 GRAND PRIX           Bas  4D SEDAN            ⋯  9367                       \n",
              "  MMRCurrentRetailCleanPrice PRIMEUNIT AUCGUART BYRNO VNZIP1 VNST VehBCost\n",
              "1  6887                      NO        GREEN     5546 33619  FL   4500    \n",
              "2 11033                      NO        GREEN    19638 33619  FL   7100    \n",
              "3 13228                      NO        GREEN     5546 33619  FL   8950    \n",
              "4  7438                      NO        GREEN     5546 33619  FL   4600    \n",
              "5  6883                      NO        GREEN     5546 33619  FL   4200    \n",
              "6 10952                      NO        GREEN     5546 33619  FL   5900    \n",
              "  IsOnlineSale WarrantyCost\n",
              "1 0            1054        \n",
              "2 0             905        \n",
              "3 0            1215        \n",
              "4 0            1389        \n",
              "5 0            1353        \n",
              "6 0            2351        "
            ]
          },
          "metadata": {}
        }
      ]
    },
    {
      "cell_type": "markdown",
      "metadata": {
        "id": "2-e4PfFJ1sXB"
      },
      "source": [
        "Below we randomly split our data into training (80%) and test (20%) sets. "
      ]
    },
    {
      "cell_type": "code",
      "metadata": {
        "id": "S1Ln0DLtk4gD"
      },
      "source": [
        "set.seed(233434)\n",
        "\n",
        "# Randomly shuffle the data\n",
        "carvana.data.shuffled <- carvana.data[sample(nrow(carvana.data)),]\n",
        "\n",
        "# Define 80% cutoff for the training data\n",
        "trainCutoff <- round(nrow(carvana.data) * 0.80)\n",
        "\n",
        "# Randomly split the data into 80% training 20% validation\n",
        "carvana.train <- carvana.data.shuffled[1:trainCutoff,]\n",
        "carvana.test <- carvana.data.shuffled[(trainCutoff+1):nrow(carvana.data.shuffled),]"
      ],
      "execution_count": null,
      "outputs": []
    },
    {
      "cell_type": "markdown",
      "metadata": {
        "id": "UZg9dQwCVyi3"
      },
      "source": [
        "### Set Up $k$-fold Cross Validation\n",
        "\n",
        "To set this up, we use the `trainControl()` function to create an object called `modelParameters` that will apply five-fold cross validation."
      ]
    },
    {
      "cell_type": "code",
      "metadata": {
        "id": "edI9LGpMVyi8"
      },
      "source": [
        "modelParameters <- trainControl(method = \"cv\", number = 5, summaryFunction = mnLogLoss, classProbs = TRUE)"
      ],
      "execution_count": null,
      "outputs": []
    },
    {
      "cell_type": "markdown",
      "metadata": {
        "id": "qflxgJJbVyi8"
      },
      "source": [
        "Remember that the `caret` package expects the $Y$ variable to be coded as a `character` variable, not a `numeric`. Therefore, we need to convert the coding of `IsBadBuy` to be `\"LEMON\"` / `\"IS_NOT_LEMON\"` instead of `1` / `0`. In the cell below, we create a new data frame called `carvanaTrainKFold`, and use `ifelse()` to change the way the variable is recorded."
      ]
    },
    {
      "cell_type": "code",
      "metadata": {
        "id": "Zq2YCYy_Vyi8",
        "colab": {
          "base_uri": "https://localhost:8080/"
        },
        "outputId": "59a16ad6-7cf4-4b22-b387-8b5825caa8ae"
      },
      "source": [
        "# Copy carvana.train into a new data frame, carvanaTrainKFold\n",
        "carvanaTrainKFold <- carvana.train\n",
        "\n",
        "# In carvanaTrainKFold, change the coding of IsBadBuy from numeric to character\n",
        "carvanaTrainKFold$IsBadBuy <- ifelse(carvanaTrainKFold$IsBadBuy==1, \"LEMON\", \"IS_NOT_LEMON\")\n",
        "\n",
        "# Output the first few rows of carvanaTrainKFold\n",
        "head(carvanaTrainKFold)"
      ],
      "execution_count": null,
      "outputs": [
        {
          "output_type": "display_data",
          "data": {
            "text/html": [
              "<table class=\"dataframe\">\n",
              "<caption>A tibble: 6 × 34</caption>\n",
              "<thead>\n",
              "\t<tr><th scope=col>RefId</th><th scope=col>IsBadBuy</th><th scope=col>PurchDate</th><th scope=col>Auction</th><th scope=col>VehYear</th><th scope=col>VehicleAge</th><th scope=col>Make</th><th scope=col>Model</th><th scope=col>Trim</th><th scope=col>SubModel</th><th scope=col>Color</th><th scope=col>Transmission</th><th scope=col>WheelTypeID</th><th scope=col>WheelType</th><th scope=col>VehOdo</th><th scope=col>Nationality</th><th scope=col>Size</th><th scope=col>TopThreeAmericanName</th><th scope=col>MMRAcquisitionAuctionAveragePrice</th><th scope=col>MMRAcquisitionAuctionCleanPrice</th><th scope=col>MMRAcquisitionRetailAveragePrice</th><th scope=col>MMRAcquisitonRetailCleanPrice</th><th scope=col>MMRCurrentAuctionAveragePrice</th><th scope=col>MMRCurrentAuctionCleanPrice</th><th scope=col>MMRCurrentRetailAveragePrice</th><th scope=col>MMRCurrentRetailCleanPrice</th><th scope=col>PRIMEUNIT</th><th scope=col>AUCGUART</th><th scope=col>BYRNO</th><th scope=col>VNZIP1</th><th scope=col>VNST</th><th scope=col>VehBCost</th><th scope=col>IsOnlineSale</th><th scope=col>WarrantyCost</th></tr>\n",
              "\t<tr><th scope=col>&lt;dbl&gt;</th><th scope=col>&lt;chr&gt;</th><th scope=col>&lt;chr&gt;</th><th scope=col>&lt;chr&gt;</th><th scope=col>&lt;dbl&gt;</th><th scope=col>&lt;dbl&gt;</th><th scope=col>&lt;chr&gt;</th><th scope=col>&lt;chr&gt;</th><th scope=col>&lt;chr&gt;</th><th scope=col>&lt;chr&gt;</th><th scope=col>&lt;chr&gt;</th><th scope=col>&lt;chr&gt;</th><th scope=col>&lt;dbl&gt;</th><th scope=col>&lt;chr&gt;</th><th scope=col>&lt;dbl&gt;</th><th scope=col>&lt;chr&gt;</th><th scope=col>&lt;chr&gt;</th><th scope=col>&lt;chr&gt;</th><th scope=col>&lt;dbl&gt;</th><th scope=col>&lt;dbl&gt;</th><th scope=col>&lt;dbl&gt;</th><th scope=col>&lt;dbl&gt;</th><th scope=col>&lt;dbl&gt;</th><th scope=col>&lt;dbl&gt;</th><th scope=col>&lt;dbl&gt;</th><th scope=col>&lt;dbl&gt;</th><th scope=col>&lt;chr&gt;</th><th scope=col>&lt;chr&gt;</th><th scope=col>&lt;dbl&gt;</th><th scope=col>&lt;dbl&gt;</th><th scope=col>&lt;chr&gt;</th><th scope=col>&lt;dbl&gt;</th><th scope=col>&lt;dbl&gt;</th><th scope=col>&lt;dbl&gt;</th></tr>\n",
              "</thead>\n",
              "<tbody>\n",
              "\t<tr><td>67387</td><td>IS_NOT_LEMON</td><td>11/3/2010 </td><td>ADESA  </td><td>2006</td><td>4</td><td>HYUNDAI  </td><td>SONATA 4C          </td><td>GLS</td><td>4D SEDAN GLS        </td><td>BLUE  </td><td>AUTO</td><td>1</td><td>Alloy </td><td>51624</td><td>OTHER ASIAN</td><td>MEDIUM     </td><td>OTHER   </td><td>6252</td><td> 7221</td><td> 9455</td><td>10482</td><td>6507</td><td> 7622</td><td> 9417</td><td>11324</td><td>NO</td><td>GREEN</td><td>52644</td><td>77086</td><td>TX</td><td> 8030</td><td>0</td><td> 671</td></tr>\n",
              "\t<tr><td>68698</td><td>IS_NOT_LEMON</td><td>11/18/2010</td><td>ADESA  </td><td>2006</td><td>4</td><td>HYUNDAI  </td><td>ELANTRA            </td><td>GLS</td><td>4D SEDAN            </td><td>BLUE  </td><td>AUTO</td><td>2</td><td>Covers</td><td>50832</td><td>OTHER ASIAN</td><td>MEDIUM     </td><td>OTHER   </td><td>4509</td><td> 5479</td><td> 7944</td><td> 8880</td><td>4888</td><td> 6098</td><td> 8362</td><td>10043</td><td>NO</td><td>GREEN</td><td>22916</td><td>80817</td><td>CO</td><td> 6025</td><td>0</td><td> 505</td></tr>\n",
              "\t<tr><td>52332</td><td>IS_NOT_LEMON</td><td>12/8/2010 </td><td>MANHEIM</td><td>2005</td><td>5</td><td>DODGE    </td><td>1500 RAM PICKUP 2WD</td><td>SLT</td><td>QUAD CAB 4.7L SLT   </td><td>GREY  </td><td>AUTO</td><td>1</td><td>Alloy </td><td>80653</td><td>AMERICAN   </td><td>LARGE TRUCK</td><td>CHRYSLER</td><td>8640</td><td>10753</td><td>13017</td><td>14687</td><td>8509</td><td>10611</td><td>12421</td><td>14168</td><td>NO</td><td>GREEN</td><td>25100</td><td>78219</td><td>TX</td><td>10250</td><td>0</td><td> 983</td></tr>\n",
              "\t<tr><td>63229</td><td>IS_NOT_LEMON</td><td>11/23/2010</td><td>MANHEIM</td><td>2008</td><td>2</td><td>CHEVROLET</td><td>IMPALA V6          </td><td>LS </td><td>4D SEDAN LS 3.5L FFV</td><td>GREY  </td><td>AUTO</td><td>2</td><td>Covers</td><td>68542</td><td>AMERICAN   </td><td>LARGE      </td><td>GM      </td><td>7814</td><td> 8662</td><td>11806</td><td>12743</td><td>8947</td><td>10312</td><td>12457</td><td>13839</td><td>NO</td><td>GREEN</td><td>52598</td><td>28625</td><td>NC</td><td> 8145</td><td>0</td><td>1703</td></tr>\n",
              "\t<tr><td>69440</td><td>IS_NOT_LEMON</td><td>8/6/2010  </td><td>ADESA  </td><td>2007</td><td>3</td><td>CHRYSLER </td><td>PT CRUISER         </td><td>Tou</td><td>4D SEDAN            </td><td>WHITE </td><td>AUTO</td><td>2</td><td>Covers</td><td>97312</td><td>AMERICAN   </td><td>MEDIUM     </td><td>CHRYSLER</td><td>5506</td><td> 6574</td><td> 8819</td><td> 9723</td><td>6203</td><td> 7540</td><td> 9782</td><td>11005</td><td>NO</td><td>GREEN</td><td>23359</td><td>91752</td><td>CA</td><td> 4570</td><td>0</td><td>1630</td></tr>\n",
              "\t<tr><td>13131</td><td>IS_NOT_LEMON</td><td>11/22/2010</td><td>MANHEIM</td><td>2005</td><td>5</td><td>FORD     </td><td>TAURUS             </td><td>SE </td><td>4D SEDAN SE FFV     </td><td>SILVER</td><td>AUTO</td><td>1</td><td>Alloy </td><td>99967</td><td>AMERICAN   </td><td>MEDIUM     </td><td>FORD    </td><td>4407</td><td> 5855</td><td> 7678</td><td> 9458</td><td>3765</td><td> 5171</td><td> 6667</td><td> 8401</td><td>NO</td><td>GREEN</td><td>19619</td><td>27542</td><td>NC</td><td> 4730</td><td>0</td><td>1053</td></tr>\n",
              "</tbody>\n",
              "</table>\n"
            ],
            "text/markdown": "\nA tibble: 6 × 34\n\n| RefId &lt;dbl&gt; | IsBadBuy &lt;chr&gt; | PurchDate &lt;chr&gt; | Auction &lt;chr&gt; | VehYear &lt;dbl&gt; | VehicleAge &lt;dbl&gt; | Make &lt;chr&gt; | Model &lt;chr&gt; | Trim &lt;chr&gt; | SubModel &lt;chr&gt; | Color &lt;chr&gt; | Transmission &lt;chr&gt; | WheelTypeID &lt;dbl&gt; | WheelType &lt;chr&gt; | VehOdo &lt;dbl&gt; | Nationality &lt;chr&gt; | Size &lt;chr&gt; | TopThreeAmericanName &lt;chr&gt; | MMRAcquisitionAuctionAveragePrice &lt;dbl&gt; | MMRAcquisitionAuctionCleanPrice &lt;dbl&gt; | MMRAcquisitionRetailAveragePrice &lt;dbl&gt; | MMRAcquisitonRetailCleanPrice &lt;dbl&gt; | MMRCurrentAuctionAveragePrice &lt;dbl&gt; | MMRCurrentAuctionCleanPrice &lt;dbl&gt; | MMRCurrentRetailAveragePrice &lt;dbl&gt; | MMRCurrentRetailCleanPrice &lt;dbl&gt; | PRIMEUNIT &lt;chr&gt; | AUCGUART &lt;chr&gt; | BYRNO &lt;dbl&gt; | VNZIP1 &lt;dbl&gt; | VNST &lt;chr&gt; | VehBCost &lt;dbl&gt; | IsOnlineSale &lt;dbl&gt; | WarrantyCost &lt;dbl&gt; |\n|---|---|---|---|---|---|---|---|---|---|---|---|---|---|---|---|---|---|---|---|---|---|---|---|---|---|---|---|---|---|---|---|---|---|\n| 67387 | IS_NOT_LEMON | 11/3/2010  | ADESA   | 2006 | 4 | HYUNDAI   | SONATA 4C           | GLS | 4D SEDAN GLS         | BLUE   | AUTO | 1 | Alloy  | 51624 | OTHER ASIAN | MEDIUM      | OTHER    | 6252 |  7221 |  9455 | 10482 | 6507 |  7622 |  9417 | 11324 | NO | GREEN | 52644 | 77086 | TX |  8030 | 0 |  671 |\n| 68698 | IS_NOT_LEMON | 11/18/2010 | ADESA   | 2006 | 4 | HYUNDAI   | ELANTRA             | GLS | 4D SEDAN             | BLUE   | AUTO | 2 | Covers | 50832 | OTHER ASIAN | MEDIUM      | OTHER    | 4509 |  5479 |  7944 |  8880 | 4888 |  6098 |  8362 | 10043 | NO | GREEN | 22916 | 80817 | CO |  6025 | 0 |  505 |\n| 52332 | IS_NOT_LEMON | 12/8/2010  | MANHEIM | 2005 | 5 | DODGE     | 1500 RAM PICKUP 2WD | SLT | QUAD CAB 4.7L SLT    | GREY   | AUTO | 1 | Alloy  | 80653 | AMERICAN    | LARGE TRUCK | CHRYSLER | 8640 | 10753 | 13017 | 14687 | 8509 | 10611 | 12421 | 14168 | NO | GREEN | 25100 | 78219 | TX | 10250 | 0 |  983 |\n| 63229 | IS_NOT_LEMON | 11/23/2010 | MANHEIM | 2008 | 2 | CHEVROLET | IMPALA V6           | LS  | 4D SEDAN LS 3.5L FFV | GREY   | AUTO | 2 | Covers | 68542 | AMERICAN    | LARGE       | GM       | 7814 |  8662 | 11806 | 12743 | 8947 | 10312 | 12457 | 13839 | NO | GREEN | 52598 | 28625 | NC |  8145 | 0 | 1703 |\n| 69440 | IS_NOT_LEMON | 8/6/2010   | ADESA   | 2007 | 3 | CHRYSLER  | PT CRUISER          | Tou | 4D SEDAN             | WHITE  | AUTO | 2 | Covers | 97312 | AMERICAN    | MEDIUM      | CHRYSLER | 5506 |  6574 |  8819 |  9723 | 6203 |  7540 |  9782 | 11005 | NO | GREEN | 23359 | 91752 | CA |  4570 | 0 | 1630 |\n| 13131 | IS_NOT_LEMON | 11/22/2010 | MANHEIM | 2005 | 5 | FORD      | TAURUS              | SE  | 4D SEDAN SE FFV      | SILVER | AUTO | 1 | Alloy  | 99967 | AMERICAN    | MEDIUM      | FORD     | 4407 |  5855 |  7678 |  9458 | 3765 |  5171 |  6667 |  8401 | NO | GREEN | 19619 | 27542 | NC |  4730 | 0 | 1053 |\n\n",
            "text/latex": "A tibble: 6 × 34\n\\begin{tabular}{llllllllllllllllllllllllllllllllll}\n RefId & IsBadBuy & PurchDate & Auction & VehYear & VehicleAge & Make & Model & Trim & SubModel & Color & Transmission & WheelTypeID & WheelType & VehOdo & Nationality & Size & TopThreeAmericanName & MMRAcquisitionAuctionAveragePrice & MMRAcquisitionAuctionCleanPrice & MMRAcquisitionRetailAveragePrice & MMRAcquisitonRetailCleanPrice & MMRCurrentAuctionAveragePrice & MMRCurrentAuctionCleanPrice & MMRCurrentRetailAveragePrice & MMRCurrentRetailCleanPrice & PRIMEUNIT & AUCGUART & BYRNO & VNZIP1 & VNST & VehBCost & IsOnlineSale & WarrantyCost\\\\\n <dbl> & <chr> & <chr> & <chr> & <dbl> & <dbl> & <chr> & <chr> & <chr> & <chr> & <chr> & <chr> & <dbl> & <chr> & <dbl> & <chr> & <chr> & <chr> & <dbl> & <dbl> & <dbl> & <dbl> & <dbl> & <dbl> & <dbl> & <dbl> & <chr> & <chr> & <dbl> & <dbl> & <chr> & <dbl> & <dbl> & <dbl>\\\\\n\\hline\n\t 67387 & IS\\_NOT\\_LEMON & 11/3/2010  & ADESA   & 2006 & 4 & HYUNDAI   & SONATA 4C           & GLS & 4D SEDAN GLS         & BLUE   & AUTO & 1 & Alloy  & 51624 & OTHER ASIAN & MEDIUM      & OTHER    & 6252 &  7221 &  9455 & 10482 & 6507 &  7622 &  9417 & 11324 & NO & GREEN & 52644 & 77086 & TX &  8030 & 0 &  671\\\\\n\t 68698 & IS\\_NOT\\_LEMON & 11/18/2010 & ADESA   & 2006 & 4 & HYUNDAI   & ELANTRA             & GLS & 4D SEDAN             & BLUE   & AUTO & 2 & Covers & 50832 & OTHER ASIAN & MEDIUM      & OTHER    & 4509 &  5479 &  7944 &  8880 & 4888 &  6098 &  8362 & 10043 & NO & GREEN & 22916 & 80817 & CO &  6025 & 0 &  505\\\\\n\t 52332 & IS\\_NOT\\_LEMON & 12/8/2010  & MANHEIM & 2005 & 5 & DODGE     & 1500 RAM PICKUP 2WD & SLT & QUAD CAB 4.7L SLT    & GREY   & AUTO & 1 & Alloy  & 80653 & AMERICAN    & LARGE TRUCK & CHRYSLER & 8640 & 10753 & 13017 & 14687 & 8509 & 10611 & 12421 & 14168 & NO & GREEN & 25100 & 78219 & TX & 10250 & 0 &  983\\\\\n\t 63229 & IS\\_NOT\\_LEMON & 11/23/2010 & MANHEIM & 2008 & 2 & CHEVROLET & IMPALA V6           & LS  & 4D SEDAN LS 3.5L FFV & GREY   & AUTO & 2 & Covers & 68542 & AMERICAN    & LARGE       & GM       & 7814 &  8662 & 11806 & 12743 & 8947 & 10312 & 12457 & 13839 & NO & GREEN & 52598 & 28625 & NC &  8145 & 0 & 1703\\\\\n\t 69440 & IS\\_NOT\\_LEMON & 8/6/2010   & ADESA   & 2007 & 3 & CHRYSLER  & PT CRUISER          & Tou & 4D SEDAN             & WHITE  & AUTO & 2 & Covers & 97312 & AMERICAN    & MEDIUM      & CHRYSLER & 5506 &  6574 &  8819 &  9723 & 6203 &  7540 &  9782 & 11005 & NO & GREEN & 23359 & 91752 & CA &  4570 & 0 & 1630\\\\\n\t 13131 & IS\\_NOT\\_LEMON & 11/22/2010 & MANHEIM & 2005 & 5 & FORD      & TAURUS              & SE  & 4D SEDAN SE FFV      & SILVER & AUTO & 1 & Alloy  & 99967 & AMERICAN    & MEDIUM      & FORD     & 4407 &  5855 &  7678 &  9458 & 3765 &  5171 &  6667 &  8401 & NO & GREEN & 19619 & 27542 & NC &  4730 & 0 & 1053\\\\\n\\end{tabular}\n",
            "text/plain": [
              "  RefId IsBadBuy     PurchDate  Auction VehYear VehicleAge Make     \n",
              "1 67387 IS_NOT_LEMON 11/3/2010  ADESA   2006    4          HYUNDAI  \n",
              "2 68698 IS_NOT_LEMON 11/18/2010 ADESA   2006    4          HYUNDAI  \n",
              "3 52332 IS_NOT_LEMON 12/8/2010  MANHEIM 2005    5          DODGE    \n",
              "4 63229 IS_NOT_LEMON 11/23/2010 MANHEIM 2008    2          CHEVROLET\n",
              "5 69440 IS_NOT_LEMON 8/6/2010   ADESA   2007    3          CHRYSLER \n",
              "6 13131 IS_NOT_LEMON 11/22/2010 MANHEIM 2005    5          FORD     \n",
              "  Model               Trim SubModel             Color  Transmission WheelTypeID\n",
              "1 SONATA 4C           GLS  4D SEDAN GLS         BLUE   AUTO         1          \n",
              "2 ELANTRA             GLS  4D SEDAN             BLUE   AUTO         2          \n",
              "3 1500 RAM PICKUP 2WD SLT  QUAD CAB 4.7L SLT    GREY   AUTO         1          \n",
              "4 IMPALA V6           LS   4D SEDAN LS 3.5L FFV GREY   AUTO         2          \n",
              "5 PT CRUISER          Tou  4D SEDAN             WHITE  AUTO         2          \n",
              "6 TAURUS              SE   4D SEDAN SE FFV      SILVER AUTO         1          \n",
              "  WheelType VehOdo Nationality Size        TopThreeAmericanName\n",
              "1 Alloy     51624  OTHER ASIAN MEDIUM      OTHER               \n",
              "2 Covers    50832  OTHER ASIAN MEDIUM      OTHER               \n",
              "3 Alloy     80653  AMERICAN    LARGE TRUCK CHRYSLER            \n",
              "4 Covers    68542  AMERICAN    LARGE       GM                  \n",
              "5 Covers    97312  AMERICAN    MEDIUM      CHRYSLER            \n",
              "6 Alloy     99967  AMERICAN    MEDIUM      FORD                \n",
              "  MMRAcquisitionAuctionAveragePrice MMRAcquisitionAuctionCleanPrice\n",
              "1 6252                               7221                          \n",
              "2 4509                               5479                          \n",
              "3 8640                              10753                          \n",
              "4 7814                               8662                          \n",
              "5 5506                               6574                          \n",
              "6 4407                               5855                          \n",
              "  MMRAcquisitionRetailAveragePrice MMRAcquisitonRetailCleanPrice\n",
              "1  9455                            10482                        \n",
              "2  7944                             8880                        \n",
              "3 13017                            14687                        \n",
              "4 11806                            12743                        \n",
              "5  8819                             9723                        \n",
              "6  7678                             9458                        \n",
              "  MMRCurrentAuctionAveragePrice MMRCurrentAuctionCleanPrice\n",
              "1 6507                           7622                      \n",
              "2 4888                           6098                      \n",
              "3 8509                          10611                      \n",
              "4 8947                          10312                      \n",
              "5 6203                           7540                      \n",
              "6 3765                           5171                      \n",
              "  MMRCurrentRetailAveragePrice MMRCurrentRetailCleanPrice PRIMEUNIT AUCGUART\n",
              "1  9417                        11324                      NO        GREEN   \n",
              "2  8362                        10043                      NO        GREEN   \n",
              "3 12421                        14168                      NO        GREEN   \n",
              "4 12457                        13839                      NO        GREEN   \n",
              "5  9782                        11005                      NO        GREEN   \n",
              "6  6667                         8401                      NO        GREEN   \n",
              "  BYRNO VNZIP1 VNST VehBCost IsOnlineSale WarrantyCost\n",
              "1 52644 77086  TX    8030    0             671        \n",
              "2 22916 80817  CO    6025    0             505        \n",
              "3 25100 78219  TX   10250    0             983        \n",
              "4 52598 28625  NC    8145    0            1703        \n",
              "5 23359 91752  CA    4570    0            1630        \n",
              "6 19619 27542  NC    4730    0            1053        "
            ]
          },
          "metadata": {}
        }
      ]
    },
    {
      "cell_type": "markdown",
      "metadata": {
        "id": "m4bVdttmk4gV"
      },
      "source": [
        "## **Logistic Regression**\n",
        "\n",
        "Using five-fold cross-validation with logistic regression, build a basic model that predicts whether a given car has a major defect ($\\texttt{IsBadBuy} = 1$). "
      ]
    },
    {
      "cell_type": "code",
      "source": [
        "set.seed(650718)\n",
        "model.reg <- train(IsBadBuy ~ Size + TopThreeAmericanName + MMRAcquisitionAuctionAveragePrice, \n",
        "                      data = carvanaTrainKFold,\n",
        "                      method=\"glm\",\n",
        "                      trControl = modelParameters)\n",
        "\n",
        "model.reg"
      ],
      "metadata": {
        "id": "gPrHFj4PH54W",
        "colab": {
          "base_uri": "https://localhost:8080/",
          "height": 243
        },
        "outputId": "a5db50cb-cf53-4508-e497-56b45b22a189"
      },
      "execution_count": null,
      "outputs": [
        {
          "output_type": "display_data",
          "data": {
            "text/plain": [
              "Generalized Linear Model \n",
              "\n",
              "2706 samples\n",
              "   3 predictor\n",
              "   2 classes: 'IS_NOT_LEMON', 'LEMON' \n",
              "\n",
              "No pre-processing\n",
              "Resampling: Cross-Validated (5 fold) \n",
              "Summary of sample sizes: 2166, 2165, 2164, 2165, 2164 \n",
              "Resampling results:\n",
              "\n",
              "  logLoss  \n",
              "  0.1852126\n"
            ]
          },
          "metadata": {}
        }
      ]
    },
    {
      "cell_type": "markdown",
      "source": [
        "## **kNN**\n",
        "\n",
        "Now use $k$-fold cross validation to fit and evaluate a kNN model. "
      ],
      "metadata": {
        "id": "1TKdjOwOJ1-D"
      }
    },
    {
      "cell_type": "code",
      "source": [
        "set.seed(650718)\n",
        "model.knn <- train(IsBadBuy ~ Size + TopThreeAmericanName + MMRAcquisitionAuctionAveragePrice, \n",
        "                      data = carvanaTrainKFold,\n",
        "                      method=\"knn\",\n",
        "                      preProc = c(\"center\", \"scale\"),\n",
        "                      trControl = modelParameters,\n",
        "                      tuneGrid = data.frame(k = seq(70, 90, by = 1))\n",
        ")\n",
        "\n",
        "model.knn"
      ],
      "metadata": {
        "id": "_VbmgotHKjcB",
        "colab": {
          "base_uri": "https://localhost:8080/",
          "height": 642
        },
        "outputId": "4984d687-ca40-4e1e-8206-3a1d8fe6ed04"
      },
      "execution_count": null,
      "outputs": [
        {
          "output_type": "display_data",
          "data": {
            "text/plain": [
              "k-Nearest Neighbors \n",
              "\n",
              "2706 samples\n",
              "   3 predictor\n",
              "   2 classes: 'IS_NOT_LEMON', 'LEMON' \n",
              "\n",
              "Pre-processing: centered (15), scaled (15) \n",
              "Resampling: Cross-Validated (5 fold) \n",
              "Summary of sample sizes: 2166, 2165, 2164, 2165, 2164 \n",
              "Resampling results across tuning parameters:\n",
              "\n",
              "  k   logLoss  \n",
              "  70  0.2884882\n",
              "  71  0.2777870\n",
              "  72  0.2669072\n",
              "  73  0.2557980\n",
              "  74  0.2561640\n",
              "  75  0.2563888\n",
              "  76  0.2556941\n",
              "  77  0.2552609\n",
              "  78  0.2443996\n",
              "  79  0.2329682\n",
              "  80  0.2330895\n",
              "  81  0.2325169\n",
              "  82  0.2325495\n",
              "  83  0.2329828\n",
              "  84  0.2324879\n",
              "  85  0.2322931\n",
              "  86  0.2325041\n",
              "  87  0.2328742\n",
              "  88  0.2331093\n",
              "  89  0.2329859\n",
              "  90  0.2330943\n",
              "\n",
              "logLoss was used to select the optimal model using the smallest value.\n",
              "The final value used for the model was k = 85."
            ]
          },
          "metadata": {}
        }
      ]
    },
    {
      "cell_type": "markdown",
      "source": [
        "## **XGBoost**"
      ],
      "metadata": {
        "id": "IMRUdNwSZvV8"
      }
    },
    {
      "cell_type": "code",
      "source": [
        "set.seed(650718)\n",
        "model.XGB <- train(IsBadBuy ~ Size + TopThreeAmericanName + MMRAcquisitionAuctionAveragePrice, \n",
        "                      data = carvanaTrainKFold,\n",
        "                      method=\"xgbTree\",\n",
        "                      trControl = modelParameters,\n",
        "                      verbose = FALSE, verbosity = 0\n",
        ")\n",
        "\n",
        "model.XGB"
      ],
      "metadata": {
        "id": "ssCbcE4tWvz0",
        "colab": {
          "base_uri": "https://localhost:8080/"
        },
        "outputId": "50577587-03cd-4fff-9d89-b7b7f3cfd7b7"
      },
      "execution_count": null,
      "outputs": [
        {
          "output_type": "display_data",
          "data": {
            "text/plain": [
              "eXtreme Gradient Boosting \n",
              "\n",
              "2706 samples\n",
              "   3 predictor\n",
              "   2 classes: 'IS_NOT_LEMON', 'LEMON' \n",
              "\n",
              "No pre-processing\n",
              "Resampling: Cross-Validated (5 fold) \n",
              "Summary of sample sizes: 2166, 2165, 2164, 2165, 2164 \n",
              "Resampling results across tuning parameters:\n",
              "\n",
              "  eta  max_depth  colsample_bytree  subsample  nrounds  logLoss  \n",
              "  0.3  1          0.6               0.50        50      0.1677901\n",
              "  0.3  1          0.6               0.50       100      0.1693481\n",
              "  0.3  1          0.6               0.50       150      0.1681547\n",
              "  0.3  1          0.6               0.75        50      0.1656184\n",
              "  0.3  1          0.6               0.75       100      0.1677906\n",
              "  0.3  1          0.6               0.75       150      0.1701688\n",
              "  0.3  1          0.6               1.00        50      0.1656744\n",
              "  0.3  1          0.6               1.00       100      0.1670532\n",
              "  0.3  1          0.6               1.00       150      0.1680034\n",
              "  0.3  1          0.8               0.50        50      0.1667961\n",
              "  0.3  1          0.8               0.50       100      0.1688061\n",
              "  0.3  1          0.8               0.50       150      0.1697268\n",
              "  0.3  1          0.8               0.75        50      0.1659424\n",
              "  0.3  1          0.8               0.75       100      0.1687592\n",
              "  0.3  1          0.8               0.75       150      0.1700762\n",
              "  0.3  1          0.8               1.00        50      0.1657663\n",
              "  0.3  1          0.8               1.00       100      0.1670195\n",
              "  0.3  1          0.8               1.00       150      0.1678692\n",
              "  0.3  2          0.6               0.50        50      0.1698450\n",
              "  0.3  2          0.6               0.50       100      0.1748064\n",
              "  0.3  2          0.6               0.50       150      0.1746781\n",
              "  0.3  2          0.6               0.75        50      0.1704470\n",
              "  0.3  2          0.6               0.75       100      0.1747897\n",
              "  0.3  2          0.6               0.75       150      0.1767799\n",
              "  0.3  2          0.6               1.00        50      0.1706380\n",
              "  0.3  2          0.6               1.00       100      0.1742323\n",
              "  0.3  2          0.6               1.00       150      0.1769951\n",
              "  0.3  2          0.8               0.50        50      0.1708346\n",
              "  0.3  2          0.8               0.50       100      0.1723082\n",
              "  0.3  2          0.8               0.50       150      0.1758991\n",
              "  0.3  2          0.8               0.75        50      0.1711790\n",
              "  0.3  2          0.8               0.75       100      0.1739273\n",
              "  0.3  2          0.8               0.75       150      0.1775434\n",
              "  0.3  2          0.8               1.00        50      0.1708337\n",
              "  0.3  2          0.8               1.00       100      0.1765773\n",
              "  0.3  2          0.8               1.00       150      0.1791930\n",
              "  0.3  3          0.6               0.50        50      0.1721216\n",
              "  0.3  3          0.6               0.50       100      0.1756303\n",
              "  0.3  3          0.6               0.50       150      0.1805686\n",
              "  0.3  3          0.6               0.75        50      0.1737951\n",
              "  0.3  3          0.6               0.75       100      0.1785362\n",
              "  0.3  3          0.6               0.75       150      0.1825295\n",
              "  0.3  3          0.6               1.00        50      0.1737353\n",
              "  0.3  3          0.6               1.00       100      0.1787386\n",
              "  0.3  3          0.6               1.00       150      0.1816205\n",
              "  0.3  3          0.8               0.50        50      0.1740004\n",
              "  0.3  3          0.8               0.50       100      0.1798637\n",
              "  0.3  3          0.8               0.50       150      0.1869949\n",
              "  0.3  3          0.8               0.75        50      0.1746945\n",
              "  0.3  3          0.8               0.75       100      0.1800787\n",
              "  0.3  3          0.8               0.75       150      0.1845669\n",
              "  0.3  3          0.8               1.00        50      0.1731753\n",
              "  0.3  3          0.8               1.00       100      0.1791981\n",
              "  0.3  3          0.8               1.00       150      0.1836599\n",
              "  0.4  1          0.6               0.50        50      0.1683719\n",
              "  0.4  1          0.6               0.50       100      0.1704172\n",
              "  0.4  1          0.6               0.50       150      0.1711634\n",
              "  0.4  1          0.6               0.75        50      0.1678720\n",
              "  0.4  1          0.6               0.75       100      0.1696147\n",
              "  0.4  1          0.6               0.75       150      0.1711126\n",
              "  0.4  1          0.6               1.00        50      0.1664073\n",
              "  0.4  1          0.6               1.00       100      0.1681398\n",
              "  0.4  1          0.6               1.00       150      0.1692983\n",
              "  0.4  1          0.8               0.50        50      0.1677352\n",
              "  0.4  1          0.8               0.50       100      0.1718939\n",
              "  0.4  1          0.8               0.50       150      0.1720608\n",
              "  0.4  1          0.8               0.75        50      0.1666028\n",
              "  0.4  1          0.8               0.75       100      0.1697035\n",
              "  0.4  1          0.8               0.75       150      0.1699430\n",
              "  0.4  1          0.8               1.00        50      0.1661387\n",
              "  0.4  1          0.8               1.00       100      0.1679549\n",
              "  0.4  1          0.8               1.00       150      0.1690969\n",
              "  0.4  2          0.6               0.50        50      0.1711371\n",
              "  0.4  2          0.6               0.50       100      0.1749888\n",
              "  0.4  2          0.6               0.50       150      0.1790597\n",
              "  0.4  2          0.6               0.75        50      0.1719935\n",
              "  0.4  2          0.6               0.75       100      0.1746340\n",
              "  0.4  2          0.6               0.75       150      0.1811458\n",
              "  0.4  2          0.6               1.00        50      0.1714116\n",
              "  0.4  2          0.6               1.00       100      0.1768706\n",
              "  0.4  2          0.6               1.00       150      0.1803439\n",
              "  0.4  2          0.8               0.50        50      0.1710247\n",
              "  0.4  2          0.8               0.50       100      0.1757494\n",
              "  0.4  2          0.8               0.50       150      0.1792088\n",
              "  0.4  2          0.8               0.75        50      0.1738915\n",
              "  0.4  2          0.8               0.75       100      0.1784071\n",
              "  0.4  2          0.8               0.75       150      0.1824613\n",
              "  0.4  2          0.8               1.00        50      0.1735527\n",
              "  0.4  2          0.8               1.00       100      0.1773512\n",
              "  0.4  2          0.8               1.00       150      0.1815634\n",
              "  0.4  3          0.6               0.50        50      0.1768437\n",
              "  0.4  3          0.6               0.50       100      0.1807508\n",
              "  0.4  3          0.6               0.50       150      0.1884876\n",
              "  0.4  3          0.6               0.75        50      0.1759025\n",
              "  0.4  3          0.6               0.75       100      0.1792802\n",
              "  0.4  3          0.6               0.75       150      0.1836152\n",
              "  0.4  3          0.6               1.00        50      0.1759604\n",
              "  0.4  3          0.6               1.00       100      0.1814927\n",
              "  0.4  3          0.6               1.00       150      0.1845205\n",
              "  0.4  3          0.8               0.50        50      0.1771970\n",
              "  0.4  3          0.8               0.50       100      0.1862139\n",
              "  0.4  3          0.8               0.50       150      0.1900208\n",
              "  0.4  3          0.8               0.75        50      0.1797754\n",
              "  0.4  3          0.8               0.75       100      0.1828833\n",
              "  0.4  3          0.8               0.75       150      0.1900757\n",
              "  0.4  3          0.8               1.00        50      0.1760275\n",
              "  0.4  3          0.8               1.00       100      0.1842048\n",
              "  0.4  3          0.8               1.00       150      0.1880151\n",
              "\n",
              "Tuning parameter 'gamma' was held constant at a value of 0\n",
              "Tuning\n",
              " parameter 'min_child_weight' was held constant at a value of 1\n",
              "logLoss was used to select the optimal model using the smallest value.\n",
              "The final values used for the model were nrounds = 50, max_depth = 1, eta\n",
              " = 0.3, gamma = 0, colsample_bytree = 0.6, min_child_weight = 1 and subsample\n",
              " = 0.75."
            ]
          },
          "metadata": {}
        }
      ]
    },
    {
      "cell_type": "code",
      "source": [
        "getTrainPerf(model.XGB)"
      ],
      "metadata": {
        "id": "lEPOKvEpZfDq",
        "colab": {
          "base_uri": "https://localhost:8080/"
        },
        "outputId": "b379bff0-4102-4229-ea51-df58e803a6f9"
      },
      "execution_count": null,
      "outputs": [
        {
          "output_type": "display_data",
          "data": {
            "text/html": [
              "<table class=\"dataframe\">\n",
              "<caption>A data.frame: 1 × 2</caption>\n",
              "<thead>\n",
              "\t<tr><th scope=col>TrainlogLoss</th><th scope=col>method</th></tr>\n",
              "\t<tr><th scope=col>&lt;dbl&gt;</th><th scope=col>&lt;chr&gt;</th></tr>\n",
              "</thead>\n",
              "<tbody>\n",
              "\t<tr><td>0.1656184</td><td>xgbTree</td></tr>\n",
              "</tbody>\n",
              "</table>\n"
            ],
            "text/markdown": "\nA data.frame: 1 × 2\n\n| TrainlogLoss &lt;dbl&gt; | method &lt;chr&gt; |\n|---|---|\n| 0.1656184 | xgbTree |\n\n",
            "text/latex": "A data.frame: 1 × 2\n\\begin{tabular}{ll}\n TrainlogLoss & method\\\\\n <dbl> & <chr>\\\\\n\\hline\n\t 0.1656184 & xgbTree\\\\\n\\end{tabular}\n",
            "text/plain": [
              "  TrainlogLoss method \n",
              "1 0.1656184    xgbTree"
            ]
          },
          "metadata": {}
        }
      ]
    },
    {
      "cell_type": "code",
      "source": [
        "getTrainPerf(model.knn)"
      ],
      "metadata": {
        "id": "SK1KaNXW65ym",
        "colab": {
          "base_uri": "https://localhost:8080/"
        },
        "outputId": "01f6a744-b8ef-4108-a0ba-d56ee5455db4"
      },
      "execution_count": null,
      "outputs": [
        {
          "output_type": "display_data",
          "data": {
            "text/html": [
              "<table class=\"dataframe\">\n",
              "<caption>A data.frame: 1 × 2</caption>\n",
              "<thead>\n",
              "\t<tr><th scope=col>TrainlogLoss</th><th scope=col>method</th></tr>\n",
              "\t<tr><th scope=col>&lt;dbl&gt;</th><th scope=col>&lt;chr&gt;</th></tr>\n",
              "</thead>\n",
              "<tbody>\n",
              "\t<tr><td>0.2322931</td><td>knn</td></tr>\n",
              "</tbody>\n",
              "</table>\n"
            ],
            "text/markdown": "\nA data.frame: 1 × 2\n\n| TrainlogLoss &lt;dbl&gt; | method &lt;chr&gt; |\n|---|---|\n| 0.2322931 | knn |\n\n",
            "text/latex": "A data.frame: 1 × 2\n\\begin{tabular}{ll}\n TrainlogLoss & method\\\\\n <dbl> & <chr>\\\\\n\\hline\n\t 0.2322931 & knn\\\\\n\\end{tabular}\n",
            "text/plain": [
              "  TrainlogLoss method\n",
              "1 0.2322931    knn   "
            ]
          },
          "metadata": {}
        }
      ]
    },
    {
      "cell_type": "code",
      "source": [
        "varImp(model.XGB)"
      ],
      "metadata": {
        "id": "dSvcUJl3Zk4t",
        "colab": {
          "base_uri": "https://localhost:8080/"
        },
        "outputId": "99ba7cdf-c56f-468c-d54b-67513f10bd9a"
      },
      "execution_count": null,
      "outputs": [
        {
          "output_type": "display_data",
          "data": {
            "text/plain": [
              "xgbTree variable importance\n",
              "\n",
              "                                  Overall\n",
              "MMRAcquisitionAuctionAveragePrice 100.000\n",
              "SizeSMALL SUV                      13.310\n",
              "TopThreeAmericanNameFORD            5.730\n",
              "TopThreeAmericanNameGM              5.030\n",
              "SizeMEDIUM SUV                      4.568\n",
              "SizeSPORTS                          3.673\n",
              "SizeVAN                             2.195\n",
              "TopThreeAmericanNameOTHER           1.820\n",
              "SizeLARGE TRUCK                     1.438\n",
              "SizeCROSSOVER                       0.000\n",
              "SizeMEDIUM                          0.000\n",
              "SizeSPECIALTY                       0.000\n",
              "SizeLARGE SUV                       0.000\n",
              "SizeLARGE                           0.000\n",
              "SizeSMALL TRUCK                     0.000"
            ]
          },
          "metadata": {}
        }
      ]
    },
    {
      "cell_type": "markdown",
      "source": [
        "## **Neural Network**"
      ],
      "metadata": {
        "id": "9fRzTgU3ZzQU"
      }
    },
    {
      "cell_type": "code",
      "source": [
        "set.seed(650718)\n",
        "model.nnet <- train(IsBadBuy ~ Size + TopThreeAmericanName + MMRAcquisitionAuctionAveragePrice, \n",
        "                      data = carvanaTrainKFold,\n",
        "                      method=\"nnet\",\n",
        "                      trControl = modelParameters, \n",
        "                      maxit = 1000,\n",
        "                      tuneGrid = data.frame(size = c(2, 3, 5), decay = 0.5)\n",
        "\n",
        ")\n",
        "\n",
        "model.nnet"
      ],
      "metadata": {
        "id": "o5mNx7kZZ3FA",
        "colab": {
          "base_uri": "https://localhost:8080/",
          "height": 1000
        },
        "outputId": "ce13739c-a758-4a2f-ba43-3e1b8edd7d4f"
      },
      "execution_count": null,
      "outputs": [
        {
          "output_type": "stream",
          "name": "stdout",
          "text": [
            "# weights:  35\n",
            "initial  value 1799.518411 \n",
            "iter  10 value 366.201411\n",
            "iter  20 value 365.617068\n",
            "iter  30 value 361.656482\n",
            "iter  40 value 359.250656\n",
            "final  value 359.194076 \n",
            "converged\n",
            "# weights:  52\n",
            "initial  value 1776.983973 \n",
            "iter  10 value 366.435936\n",
            "iter  20 value 366.189870\n",
            "iter  30 value 364.493116\n",
            "iter  40 value 362.014682\n",
            "iter  50 value 359.892900\n",
            "iter  60 value 357.857841\n",
            "iter  70 value 357.828026\n",
            "final  value 357.827587 \n",
            "converged\n",
            "# weights:  86\n",
            "initial  value 2019.206909 \n",
            "iter  10 value 374.055292\n",
            "iter  20 value 364.554727\n",
            "iter  30 value 364.523241\n",
            "iter  40 value 362.168094\n",
            "iter  50 value 360.340565\n",
            "iter  60 value 359.312588\n",
            "iter  70 value 358.472525\n",
            "iter  80 value 357.796852\n",
            "iter  90 value 357.316046\n",
            "iter 100 value 356.682113\n",
            "iter 110 value 356.646676\n",
            "iter 120 value 356.514587\n",
            "iter 130 value 356.511431\n",
            "iter 140 value 356.511135\n",
            "final  value 356.510891 \n",
            "converged\n",
            "# weights:  35\n",
            "initial  value 1400.613897 \n",
            "iter  10 value 366.266765\n",
            "iter  20 value 365.917444\n",
            "iter  30 value 359.536821\n",
            "iter  40 value 358.241403\n",
            "iter  50 value 357.717515\n",
            "iter  60 value 356.311708\n",
            "iter  70 value 356.071397\n",
            "final  value 356.071382 \n",
            "converged\n",
            "# weights:  52\n",
            "initial  value 1271.096870 \n",
            "iter  10 value 366.105911\n",
            "iter  20 value 365.989409\n",
            "iter  30 value 363.013233\n",
            "iter  40 value 361.676600\n",
            "iter  50 value 358.141722\n",
            "iter  60 value 357.529773\n",
            "iter  70 value 357.387536\n",
            "final  value 357.364731 \n",
            "converged\n",
            "# weights:  86\n",
            "initial  value 1339.341522 \n",
            "iter  10 value 369.043994\n",
            "iter  20 value 358.271994\n",
            "iter  30 value 358.049208\n",
            "iter  40 value 357.629655\n",
            "iter  50 value 357.559857\n",
            "iter  60 value 357.204225\n",
            "iter  70 value 357.063735\n",
            "iter  80 value 357.027252\n",
            "iter  90 value 356.991580\n",
            "iter 100 value 356.101411\n",
            "iter 110 value 355.664250\n",
            "iter 120 value 355.614302\n",
            "iter 130 value 355.595041\n",
            "final  value 355.592491 \n",
            "converged\n",
            "# weights:  35\n",
            "initial  value 727.631787 \n",
            "iter  10 value 362.263782\n",
            "iter  20 value 356.692998\n",
            "iter  30 value 356.179898\n",
            "iter  40 value 356.144837\n",
            "iter  50 value 356.143419\n",
            "final  value 356.143411 \n",
            "converged\n",
            "# weights:  52\n",
            "initial  value 1245.957003 \n",
            "iter  10 value 360.138049\n",
            "iter  20 value 357.511647\n",
            "iter  30 value 355.907480\n",
            "iter  40 value 355.883297\n",
            "final  value 355.883060 \n",
            "converged\n",
            "# weights:  86\n",
            "initial  value 504.107684 \n",
            "iter  10 value 361.906957\n",
            "iter  20 value 361.720833\n",
            "iter  30 value 360.436965\n",
            "iter  40 value 356.797875\n",
            "iter  50 value 355.880532\n",
            "iter  60 value 355.877150\n",
            "iter  60 value 355.877149\n",
            "iter  60 value 355.877149\n",
            "final  value 355.877149 \n",
            "converged\n",
            "# weights:  35\n",
            "initial  value 759.023579 \n",
            "iter  10 value 362.303411\n",
            "iter  20 value 357.918668\n",
            "iter  30 value 352.584523\n",
            "iter  40 value 351.498570\n",
            "iter  50 value 351.335126\n",
            "iter  60 value 351.226856\n",
            "final  value 351.226726 \n",
            "converged\n",
            "# weights:  52\n",
            "initial  value 1081.557226 \n",
            "iter  10 value 363.154684\n",
            "iter  20 value 357.742686\n",
            "iter  30 value 353.274714\n",
            "iter  40 value 352.615897\n",
            "iter  50 value 352.566429\n",
            "iter  50 value 352.566427\n",
            "iter  50 value 352.566427\n",
            "final  value 352.566427 \n",
            "converged\n",
            "# weights:  86\n",
            "initial  value 1116.241752 \n",
            "iter  10 value 361.336570\n",
            "iter  20 value 353.612297\n",
            "iter  30 value 352.697203\n",
            "iter  40 value 352.431333\n",
            "iter  50 value 351.434525\n",
            "iter  60 value 350.885670\n",
            "iter  70 value 350.594908\n",
            "iter  80 value 350.360771\n",
            "iter  90 value 350.315853\n",
            "final  value 350.315714 \n",
            "converged\n",
            "# weights:  35\n",
            "initial  value 1753.486904 \n",
            "iter  10 value 364.743738\n",
            "iter  20 value 361.393111\n",
            "iter  30 value 357.760658\n",
            "iter  40 value 357.754656\n",
            "final  value 357.754588 \n",
            "converged\n",
            "# weights:  52\n",
            "initial  value 1123.947291 \n",
            "iter  10 value 364.503466\n",
            "iter  20 value 364.493618\n",
            "iter  30 value 357.841576\n",
            "iter  40 value 357.572327\n",
            "final  value 357.551287 \n",
            "converged\n",
            "# weights:  86\n",
            "initial  value 2402.789448 \n",
            "iter  10 value 366.801493\n",
            "iter  10 value 366.801491\n",
            "iter  20 value 366.549284\n",
            "final  value 366.545578 \n",
            "converged\n",
            "# weights:  35\n",
            "initial  value 1069.243935 \n",
            "iter  10 value 455.282786\n",
            "iter  20 value 454.802133\n",
            "iter  30 value 451.591872\n",
            "iter  40 value 446.695038\n",
            "iter  50 value 445.916208\n",
            "iter  60 value 445.903905\n",
            "iter  60 value 445.903902\n",
            "iter  60 value 445.903902\n",
            "final  value 445.903902 \n",
            "converged\n"
          ]
        },
        {
          "output_type": "display_data",
          "data": {
            "text/plain": [
              "Neural Network \n",
              "\n",
              "2706 samples\n",
              "   3 predictor\n",
              "   2 classes: 'IS_NOT_LEMON', 'LEMON' \n",
              "\n",
              "No pre-processing\n",
              "Resampling: Cross-Validated (5 fold) \n",
              "Summary of sample sizes: 2166, 2165, 2164, 2165, 2164 \n",
              "Resampling results across tuning parameters:\n",
              "\n",
              "  size  logLoss  \n",
              "  2     0.1652527\n",
              "  3     0.1653752\n",
              "  5     0.1667283\n",
              "\n",
              "Tuning parameter 'decay' was held constant at a value of 0.5\n",
              "logLoss was used to select the optimal model using the smallest value.\n",
              "The final values used for the model were size = 2 and decay = 0.5."
            ]
          },
          "metadata": {}
        }
      ]
    },
    {
      "cell_type": "code",
      "source": [
        "plotnet(model.nnet)"
      ],
      "metadata": {
        "id": "J8hd7Lg3a-13",
        "colab": {
          "base_uri": "https://localhost:8080/",
          "height": 437
        },
        "outputId": "14c1e87f-8324-4805-c7c5-7e2a6cb62ce3"
      },
      "execution_count": null,
      "outputs": [
        {
          "output_type": "display_data",
          "data": {
            "text/plain": [
              "plot without title"
            ],
            "image/png": "[encoded data removed]"
          },
          "metadata": {
            "image/png": {
              "width": 420,
              "height": 420
            }
          }
        }
      ]
    },
    {
      "cell_type": "code",
      "source": [
        "olden(model.nnet) + theme(axis.text.x = element_text(angle = 90, vjust = 0.5, hjust=1))"
      ],
      "metadata": {
        "id": "-L115rg6bVW5",
        "colab": {
          "base_uri": "https://localhost:8080/",
          "height": 437
        },
        "outputId": "d29d1331-e4ab-4e3b-81b2-adb26104252b"
      },
      "execution_count": null,
      "outputs": [
        {
          "output_type": "display_data",
          "data": {
            "text/plain": [
              "plot without title"
            ],
            "image/png": "[encoded data removed]"
          },
          "metadata": {
            "image/png": {
              "width": 420,
              "height": 420
            }
          }
        }
      ]
    },
    {
      "cell_type": "markdown",
      "source": [
        "## **Log Loss on Test Set**"
      ],
      "metadata": {
        "id": "PY5ESab4tv1U"
      }
    },
    {
      "cell_type": "code",
      "source": [
        "LogLoss(predict(model.XGB, carvana.test, type=\"prob\")$LEMON, carvana.test$IsBadBuy)"
      ],
      "metadata": {
        "id": "qNvTAwEmuKRw",
        "colab": {
          "base_uri": "https://localhost:8080/",
          "height": 34
        },
        "outputId": "55731a82-3a0e-4ea8-f291-63b297c70c50"
      },
      "execution_count": null,
      "outputs": [
        {
          "output_type": "display_data",
          "data": {
            "text/html": [
              "0.150130465140459"
            ],
            "text/markdown": "0.150130465140459",
            "text/latex": "0.150130465140459",
            "text/plain": [
              "[1] 0.1501305"
            ]
          },
          "metadata": {}
        }
      ]
    },
    {
      "cell_type": "code",
      "source": [
        "LogLoss(predict(model.nnet, carvana.test, type=\"prob\")$LEMON, carvana.test$IsBadBuy)"
      ],
      "metadata": {
        "id": "DX6RooAF7aZ0",
        "colab": {
          "base_uri": "https://localhost:8080/",
          "height": 34
        },
        "outputId": "403c4069-99af-40b1-faa4-10c04cd21d21"
      },
      "execution_count": null,
      "outputs": [
        {
          "output_type": "display_data",
          "data": {
            "text/html": [
              "0.152907526223289"
            ],
            "text/markdown": "0.152907526223289",
            "text/latex": "0.152907526223289",
            "text/plain": [
              "[1] 0.1529075"
            ]
          },
          "metadata": {}
        }
      ]
    },
    {
      "cell_type": "markdown",
      "source": [
        "# Model Building with H2O"
      ],
      "metadata": {
        "id": "khmafp-Qk4D5"
      }
    },
    {
      "cell_type": "markdown",
      "metadata": {
        "id": "-eJr9zGi0arh"
      },
      "source": [
        "## Load in the packages"
      ]
    },
    {
      "cell_type": "code",
      "metadata": {
        "id": "Z7cszvg80oHs",
        "colab": {
          "base_uri": "https://localhost:8080/"
        },
        "outputId": "1f778446-8f28-4bcc-bd44-fe39add8f5f5"
      },
      "source": [
        "install.packages(c(\"h2o\",\"mlbench\"))\n",
        "library(h2o)\n",
        "library(mlbench)"
      ],
      "execution_count": null,
      "outputs": [
        {
          "output_type": "stream",
          "name": "stderr",
          "text": [
            "Installing packages into ‘/usr/local/lib/R/site-library’\n",
            "(as ‘lib’ is unspecified)\n",
            "\n",
            "also installing the dependency ‘RCurl’\n",
            "\n",
            "\n",
            "\n",
            "----------------------------------------------------------------------\n",
            "\n",
            "Your next step is to start H2O:\n",
            "    > h2o.init()\n",
            "\n",
            "For H2O package documentation, ask for help:\n",
            "    > ??h2o\n",
            "\n",
            "After starting H2O, you can use the Web UI at http://localhost:54321\n",
            "For more information visit https://docs.h2o.ai\n",
            "\n",
            "----------------------------------------------------------------------\n",
            "\n",
            "\n",
            "\n",
            "Attaching package: ‘h2o’\n",
            "\n",
            "\n",
            "The following objects are masked from ‘package:stats’:\n",
            "\n",
            "    cor, sd, var\n",
            "\n",
            "\n",
            "The following objects are masked from ‘package:base’:\n",
            "\n",
            "    &&, %*%, %in%, ||, apply, as.factor, as.numeric, colnames,\n",
            "    colnames<-, ifelse, is.character, is.factor, is.numeric, log,\n",
            "    log10, log1p, log2, round, signif, trunc\n",
            "\n",
            "\n"
          ]
        }
      ]
    },
    {
      "cell_type": "markdown",
      "metadata": {
        "id": "pPx0vSxe2L-H"
      },
      "source": [
        "## Define Target and Features"
      ]
    },
    {
      "cell_type": "code",
      "metadata": {
        "id": "_YbZiVp52XJf",
        "colab": {
          "base_uri": "https://localhost:8080/"
        },
        "outputId": "fff2de16-0f6d-4629-d5ef-a1dbfe2f3948"
      },
      "source": [
        "target <- \"Price\" \n",
        "features <- setdiff(colnames(data), target)\n",
        "print(features)"
      ],
      "execution_count": null,
      "outputs": [
        {
          "output_type": "stream",
          "name": "stdout",
          "text": [
            " [1] \"Year\"              \"Kilometers_Driven\" \"Mileage\"          \n",
            " [4] \"Engine\"            \"Power\"             \"Seats\"            \n",
            " [7] \"Fuel_CNG\"          \"Fuel_Diesel\"       \"Fuel_Electric\"    \n",
            "[10] \"Fuel_LPG\"          \"Manual\"            \"First_Owner\"      \n"
          ]
        }
      ]
    },
    {
      "cell_type": "markdown",
      "metadata": {
        "id": "tdRBP3N42eGq"
      },
      "source": [
        "## Start a local H2O Cluster (JVM)"
      ]
    },
    {
      "cell_type": "code",
      "metadata": {
        "id": "65BJo2py2dfs",
        "colab": {
          "base_uri": "https://localhost:8080/"
        },
        "outputId": "bf2cdf16-268e-47c9-ef90-758dacac73b1"
      },
      "source": [
        "h2o.init()"
      ],
      "execution_count": null,
      "outputs": [
        {
          "output_type": "stream",
          "name": "stdout",
          "text": [
            "\n",
            "H2O is not running yet, starting it now...\n",
            "\n",
            "Note:  In case of errors look at the following log files:\n",
            "    /tmp/RtmpgV0NTR/file4d7461669e/h2o_UnknownUser_started_from_r.out\n",
            "    /tmp/RtmpgV0NTR/file4deb32f7a/h2o_UnknownUser_started_from_r.err\n",
            "\n",
            "\n",
            "Starting H2O JVM and connecting: ..... Connection successful!\n",
            "\n",
            "R is connected to the H2O cluster: \n",
            "    H2O cluster uptime:         3 seconds 298 milliseconds \n",
            "    H2O cluster timezone:       Etc/UTC \n",
            "    H2O data parsing timezone:  UTC \n",
            "    H2O cluster version:        3.38.0.1 \n",
            "    H2O cluster version age:    2 months and 10 days  \n",
            "    H2O cluster name:           H2O_started_from_R_root_mzj741 \n",
            "    H2O cluster total nodes:    1 \n",
            "    H2O cluster total memory:   3.17 GB \n",
            "    H2O cluster total cores:    2 \n",
            "    H2O cluster allowed cores:  2 \n",
            "    H2O cluster healthy:        TRUE \n",
            "    H2O Connection ip:          localhost \n",
            "    H2O Connection port:        54321 \n",
            "    H2O Connection proxy:       NA \n",
            "    H2O Internal Security:      FALSE \n",
            "    R Version:                  R version 4.2.2 Patched (2022-11-10 r83330) \n",
            "\n"
          ]
        }
      ]
    },
    {
      "cell_type": "markdown",
      "metadata": {
        "id": "1qaFk8gP2tPF"
      },
      "source": [
        "## Convert R dataframe into H2O dataframe"
      ]
    },
    {
      "cell_type": "code",
      "metadata": {
        "id": "TCRE1XY62qVf",
        "colab": {
          "base_uri": "https://localhost:8080/"
        },
        "outputId": "bd8daa5b-054f-467d-cde3-9cc41e974fad"
      },
      "source": [
        "# H2O dataframe\n",
        "h_data <- as.h2o(data)"
      ],
      "execution_count": null,
      "outputs": [
        {
          "output_type": "stream",
          "name": "stdout",
          "text": [
            "  |======================================================================| 100%\n"
          ]
        }
      ]
    },
    {
      "cell_type": "markdown",
      "metadata": {
        "id": "Rc2i_VRbT7LN"
      },
      "source": [
        "## Split Data into Train/Test"
      ]
    },
    {
      "cell_type": "code",
      "metadata": {
        "id": "baqX87P2UBU8",
        "colab": {
          "base_uri": "https://localhost:8080/"
        },
        "outputId": "0ea25328-e4a7-4dc6-db8e-b80389632bfc"
      },
      "source": [
        "n_seed = 1234\n",
        "h_train <- as.h2o(train)\n",
        "h_test <- as.h2o(test)"
      ],
      "execution_count": null,
      "outputs": [
        {
          "output_type": "stream",
          "name": "stdout",
          "text": [
            "  |======================================================================| 100%\n",
            "  |======================================================================| 100%\n"
          ]
        }
      ]
    },
    {
      "cell_type": "markdown",
      "metadata": {
        "id": "Qcx3kvm2UJ_v"
      },
      "source": [
        "## Baseline Linear Regression"
      ]
    },
    {
      "cell_type": "code",
      "metadata": {
        "id": "0R522kv_UQ5B",
        "colab": {
          "base_uri": "https://localhost:8080/",
          "height": 295
        },
        "outputId": "9f855fbe-35b3-40cd-e646-34a2d8459a48"
      },
      "source": [
        "model_glm <- h2o.glm(x = features,               # All explanatory variables\n",
        "                     y = target,                 # price of car\n",
        "                     training_frame = h_train,   # H2O dataframe with training data\n",
        "                     model_id = \"baseline_glm\",  # Give the model a name\n",
        "                     nfolds = 5)                # Using 5-fold CV\n",
        "                                 \n",
        "                     \n",
        "# Cross-Validation\n",
        "model_glm@model$cross_validation_metrics"
      ],
      "execution_count": null,
      "outputs": [
        {
          "output_type": "stream",
          "name": "stdout",
          "text": [
            "  |======================================================================| 100%\n"
          ]
        },
        {
          "output_type": "display_data",
          "data": {
            "text/plain": [
              "H2ORegressionMetrics: glm\n",
              "** Reported on cross-validation data. **\n",
              "** 5-fold cross-validation on training data (Metrics computed for combined holdout predictions) **\n",
              "\n",
              "MSE:  0.1045574\n",
              "RMSE:  0.3233533\n",
              "MAE:  0.2426153\n",
              "RMSLE:  0.1476801\n",
              "Mean Residual Deviance :  0.1045574\n",
              "R^2 :  0.8678468\n",
              "Null Deviance :3976.812\n",
              "Null D.o.F. :5021\n",
              "Residual Deviance :525.087\n",
              "Residual D.o.F. :5010\n",
              "AIC :2938.045\n"
            ]
          },
          "metadata": {}
        }
      ]
    },
    {
      "cell_type": "code",
      "metadata": {
        "id": "tWmrUHHrUbZ0",
        "colab": {
          "base_uri": "https://localhost:8080/",
          "height": 243
        },
        "outputId": "3e041fe3-ee92-46e8-be8e-be615f9df7e1"
      },
      "source": [
        "# Evaluate performance on test\n",
        "h2o.performance(model_glm, newdata = h_test)"
      ],
      "execution_count": null,
      "outputs": [
        {
          "output_type": "display_data",
          "data": {
            "text/plain": [
              "H2ORegressionMetrics: glm\n",
              "\n",
              "MSE:  0.1188147\n",
              "RMSE:  0.3446951\n",
              "MAE:  0.23175\n",
              "RMSLE:  NaN\n",
              "Mean Residual Deviance :  0.1188147\n",
              "R^2 :  0.7986603\n",
              "Null Deviance :596.4759\n",
              "Null D.o.F. :967\n",
              "Residual Deviance :115.0126\n",
              "Residual D.o.F. :957\n",
              "AIC :709.0409\n"
            ]
          },
          "metadata": {}
        }
      ]
    },
    {
      "cell_type": "markdown",
      "metadata": {
        "id": "cD_DwJtrUiMv"
      },
      "source": [
        "## Baseline Random Forest"
      ]
    },
    {
      "cell_type": "code",
      "metadata": {
        "id": "Q6iP_NXlUlXm",
        "colab": {
          "base_uri": "https://localhost:8080/"
        },
        "outputId": "100de281-6ac9-4f3d-a768-6e6ffb7ee3db"
      },
      "source": [
        "# Baseline Distributed Random Forest (DRF)\n",
        "model_drf <- h2o.randomForest(x = features,\n",
        "                              y = target,\n",
        "                              training_frame = h_train,\n",
        "                              model_id = \"baseline_drf\",\n",
        "                              nfolds = 5,\n",
        "                              seed = n_seed)\n",
        "                "
      ],
      "execution_count": null,
      "outputs": [
        {
          "output_type": "stream",
          "name": "stdout",
          "text": [
            "  |======================================================================| 100%\n"
          ]
        }
      ]
    },
    {
      "cell_type": "code",
      "source": [
        "model_drf@model$cross_validation_metrics"
      ],
      "metadata": {
        "id": "Gwxrb8pPqWCd",
        "colab": {
          "base_uri": "https://localhost:8080/",
          "height": 173
        },
        "outputId": "9efacb93-46da-4584-b7cc-cec9b4d6040d"
      },
      "execution_count": null,
      "outputs": [
        {
          "output_type": "display_data",
          "data": {
            "text/plain": [
              "H2ORegressionMetrics: drf\n",
              "** Reported on cross-validation data. **\n",
              "** 5-fold cross-validation on training data (Metrics computed for combined holdout predictions) **\n",
              "\n",
              "MSE:  0.06069536\n",
              "RMSE:  0.2463643\n",
              "MAE:  0.1729457\n",
              "RMSLE:  0.1210278\n",
              "Mean Residual Deviance :  0.06069536\n"
            ]
          },
          "metadata": {}
        }
      ]
    },
    {
      "cell_type": "code",
      "metadata": {
        "id": "rG5kecvsUsch",
        "colab": {
          "base_uri": "https://localhost:8080/",
          "height": 138
        },
        "outputId": "c9746efd-1bf4-4647-81f9-3238df31dd33"
      },
      "source": [
        "h2o.performance(model_drf, newdata = h_test)"
      ],
      "execution_count": null,
      "outputs": [
        {
          "output_type": "display_data",
          "data": {
            "text/plain": [
              "H2ORegressionMetrics: drf\n",
              "\n",
              "MSE:  0.0525521\n",
              "RMSE:  0.2292424\n",
              "MAE:  0.1652354\n",
              "RMSLE:  0.1184389\n",
              "Mean Residual Deviance :  0.0525521\n"
            ]
          },
          "metadata": {}
        }
      ]
    },
    {
      "cell_type": "markdown",
      "metadata": {
        "id": "sfCOBkShUviZ"
      },
      "source": [
        "## Baseline Neural Net"
      ]
    },
    {
      "cell_type": "code",
      "metadata": {
        "id": "299jGKV4UzRU",
        "colab": {
          "base_uri": "https://localhost:8080/"
        },
        "outputId": "76ecde39-2cf3-4105-8525-790db94a5fe0"
      },
      "source": [
        "# Baseline Deep Neural Network (DNN)\n",
        "# By default, DNN is not reproducible with multi-core. You may get slightly different results here.\n",
        "# You can enable the `reproducible` option but it will run on a single core (very slow).\n",
        "model_dnn <- h2o.deeplearning(x = features, \n",
        "                              y = target, \n",
        "                              training_frame = h_train,\n",
        "                              model_id = \"baseline_dnn\", \n",
        "                              nfolds = 5, \n",
        "                              seed = n_seed)"
      ],
      "execution_count": null,
      "outputs": [
        {
          "output_type": "stream",
          "name": "stdout",
          "text": [
            "  |======================================================================| 100%\n"
          ]
        }
      ]
    },
    {
      "cell_type": "code",
      "source": [
        "model_dnn@model$cross_validation_metrics"
      ],
      "metadata": {
        "id": "XudYUAHEqhD7",
        "colab": {
          "base_uri": "https://localhost:8080/",
          "height": 173
        },
        "outputId": "937a9984-00a8-4d2c-c66a-0ab06c08cf99"
      },
      "execution_count": null,
      "outputs": [
        {
          "output_type": "display_data",
          "data": {
            "text/plain": [
              "H2ORegressionMetrics: deeplearning\n",
              "** Reported on cross-validation data. **\n",
              "** 5-fold cross-validation on training data (Metrics computed for combined holdout predictions) **\n",
              "\n",
              "MSE:  0.08108738\n",
              "RMSE:  0.2847585\n",
              "MAE:  0.2110162\n",
              "RMSLE:  0.132168\n",
              "Mean Residual Deviance :  0.08108738\n"
            ]
          },
          "metadata": {}
        }
      ]
    },
    {
      "cell_type": "code",
      "metadata": {
        "id": "uU_XpcmDU6io",
        "colab": {
          "base_uri": "https://localhost:8080/",
          "height": 138
        },
        "outputId": "34a62d97-b607-4ba0-d8a6-abc60eaa4c3b"
      },
      "source": [
        "h2o.performance(model_dnn, newdata = h_test)"
      ],
      "execution_count": null,
      "outputs": [
        {
          "output_type": "display_data",
          "data": {
            "text/plain": [
              "H2ORegressionMetrics: deeplearning\n",
              "\n",
              "MSE:  0.07788102\n",
              "RMSE:  0.2790717\n",
              "MAE:  0.2021867\n",
              "RMSLE:  0.1329387\n",
              "Mean Residual Deviance :  0.07788102\n"
            ]
          },
          "metadata": {}
        }
      ]
    },
    {
      "cell_type": "markdown",
      "metadata": {
        "id": "z67ZhwkaVDT5"
      },
      "source": [
        "## Comparison (RMSE: Lower = Better)"
      ]
    },
    {
      "cell_type": "code",
      "metadata": {
        "id": "3On8ftRPVHYn"
      },
      "source": [
        "# Create a table to compare RMSE from different models\n",
        "d_eval <- data.frame(model = c(\"H2O GLM: Generalized Linear Model (Baseline)\", \n",
        "                               \"H2O DRF: Distributed Random Forest (Baseline)\",\n",
        "                               \"H2O DNN: Deep Neural Network (Baseline)\"),                               \n",
        "                     stringsAsFactors = FALSE)\n",
        "d_eval$RMSE_cv <- NA\n",
        "d_eval$RMSE_test <- NA"
      ],
      "execution_count": null,
      "outputs": []
    },
    {
      "cell_type": "code",
      "metadata": {
        "id": "_ox-97K7VYV-",
        "colab": {
          "base_uri": "https://localhost:8080/",
          "height": 192
        },
        "outputId": "8ae1d13d-335f-4f8b-c7e7-7075b4818e99"
      },
      "source": [
        "# Store RMSE values\n",
        "d_eval[1, ]$RMSE_cv <- model_glm@model$cross_validation_metrics@metrics$RMSE\n",
        "d_eval[2, ]$RMSE_cv <- model_drf@model$cross_validation_metrics@metrics$RMSE\n",
        "d_eval[3, ]$RMSE_cv <- model_dnn@model$cross_validation_metrics@metrics$RMSE\n",
        "\n",
        "d_eval[1, ]$RMSE_test <- h2o.rmse(h2o.performance(model_glm, newdata = h_test))\n",
        "d_eval[2, ]$RMSE_test <- h2o.rmse(h2o.performance(model_drf, newdata = h_test))\n",
        "d_eval[3, ]$RMSE_test <- h2o.rmse(h2o.performance(model_dnn, newdata = h_test))\n",
        "\n",
        "# Show Comparison (RMSE: Lower = Better)\n",
        "d_eval"
      ],
      "execution_count": null,
      "outputs": [
        {
          "output_type": "display_data",
          "data": {
            "text/html": [
              "<table class=\"dataframe\">\n",
              "<caption>A data.frame: 3 × 3</caption>\n",
              "<thead>\n",
              "\t<tr><th scope=col>model</th><th scope=col>RMSE_cv</th><th scope=col>RMSE_test</th></tr>\n",
              "\t<tr><th scope=col>&lt;chr&gt;</th><th scope=col>&lt;dbl&gt;</th><th scope=col>&lt;dbl&gt;</th></tr>\n",
              "</thead>\n",
              "<tbody>\n",
              "\t<tr><td>H2O GLM: Generalized Linear Model (Baseline) </td><td>0.3233533</td><td>0.3446951</td></tr>\n",
              "\t<tr><td>H2O DRF: Distributed Random Forest (Baseline)</td><td>0.2463643</td><td>0.2292424</td></tr>\n",
              "\t<tr><td>H2O DNN: Deep Neural Network (Baseline)      </td><td>0.2847585</td><td>0.2790717</td></tr>\n",
              "</tbody>\n",
              "</table>\n"
            ],
            "text/markdown": "\nA data.frame: 3 × 3\n\n| model &lt;chr&gt; | RMSE_cv &lt;dbl&gt; | RMSE_test &lt;dbl&gt; |\n|---|---|---|\n| H2O GLM: Generalized Linear Model (Baseline)  | 0.3233533 | 0.3446951 |\n| H2O DRF: Distributed Random Forest (Baseline) | 0.2463643 | 0.2292424 |\n| H2O DNN: Deep Neural Network (Baseline)       | 0.2847585 | 0.2790717 |\n\n",
            "text/latex": "A data.frame: 3 × 3\n\\begin{tabular}{lll}\n model & RMSE\\_cv & RMSE\\_test\\\\\n <chr> & <dbl> & <dbl>\\\\\n\\hline\n\t H2O GLM: Generalized Linear Model (Baseline)  & 0.3233533 & 0.3446951\\\\\n\t H2O DRF: Distributed Random Forest (Baseline) & 0.2463643 & 0.2292424\\\\\n\t H2O DNN: Deep Neural Network (Baseline)       & 0.2847585 & 0.2790717\\\\\n\\end{tabular}\n",
            "text/plain": [
              "  model                                         RMSE_cv   RMSE_test\n",
              "1 H2O GLM: Generalized Linear Model (Baseline)  0.3233533 0.3446951\n",
              "2 H2O DRF: Distributed Random Forest (Baseline) 0.2463643 0.2292424\n",
              "3 H2O DNN: Deep Neural Network (Baseline)       0.2847585 0.2790717"
            ]
          },
          "metadata": {}
        }
      ]
    },
    {
      "cell_type": "markdown",
      "metadata": {
        "id": "Gd5yQvneWr1Z"
      },
      "source": [
        "#AutoML with H2O\n",
        "\n",
        "Automated machine learning, or AutoML, aims to reduce or eliminate the need for skilled data scientists to build machine learning and deep learning models. Instead, an AutoML system allows you to provide the labeled training data as input and receive an optimized model as output.\n",
        "\n",
        "There are several ways of going about this. One approach is for the software to simply train every kind of model on the data and pick the one that works best. A refinement of this would be for it to build one or more ensemble models that combine the other models, which sometimes (but not always) gives better results.\n",
        "\n",
        "A second technique is to optimize the hyperparameters (explained below) of the best model or models to train an even better model. Feature engineering (also explained below) is a valuable addition to any model training. One way of de-skilling deep learning is to use transfer learning, essentially customizing a well-trained general model for specific data"
      ]
    },
    {
      "cell_type": "code",
      "metadata": {
        "id": "c7NuOdUqWugA",
        "colab": {
          "base_uri": "https://localhost:8080/",
          "height": 642
        },
        "outputId": "719f3bb7-b2a0-40f7-80d5-bbd57663c20b"
      },
      "source": [
        "# Run AutoML (try n different models)\n",
        "# Check out all options using ?h2o.automl\n",
        "automl = h2o.automl(x = features,\n",
        "                    y = target,\n",
        "                    training_frame = h_train,\n",
        "                    nfolds = 5,                     # 5-fold Cross-Validation\n",
        "                    max_models = 4,                # Max number of models\n",
        "                    stopping_metric = \"RMSE\",       # Metric to optimize\n",
        "                    project_name = \"automl_boston\", # Specify a name so you can add more models later\n",
        "                    seed = n_seed)\n",
        "                    automl"
      ],
      "execution_count": null,
      "outputs": [
        {
          "output_type": "stream",
          "name": "stdout",
          "text": [
            "  |                                                                      |   0%\n",
            "  |=                                                                     |   1%\n",
            "  |===                                                                   |   4%\n",
            "  |====                                                                  |   6%\n",
            "  |=====                                                                 |   8%\n",
            "  |=========                                                             |  12%\n",
            "  |======================================================================| 100%\n"
          ]
        },
        {
          "output_type": "display_data",
          "data": {
            "text/plain": [
              "AutoML Details\n",
              "==============\n",
              "Project Name: automl_boston \n",
              "Leader Model ID: StackedEnsemble_AllModels_1_AutoML_1_20221129_220355 \n",
              "Algorithm: stackedensemble \n",
              "\n",
              "Total Number of Models Trained: 6 \n",
              "Start Time: 2022-11-29 22:03:55 UTC \n",
              "End Time: 2022-11-29 22:04:23 UTC \n",
              "Duration: 27 s\n",
              "\n",
              "Leaderboard\n",
              "===========\n",
              "                                                 model_id      rmse        mse\n",
              "1    StackedEnsemble_AllModels_1_AutoML_1_20221129_220355 0.2355103 0.05546510\n",
              "2 StackedEnsemble_BestOfFamily_1_AutoML_1_20221129_220355 0.2407993 0.05798429\n",
              "3                      XGBoost_2_AutoML_1_20221129_220355 0.2453671 0.06020501\n",
              "4                      XGBoost_1_AutoML_1_20221129_220355 0.2465739 0.06079870\n",
              "5                          GBM_1_AutoML_1_20221129_220355 0.2725023 0.07425749\n",
              "6                          GLM_1_AutoML_1_20221129_220355 0.3233255 0.10453940\n",
              "        mae     rmsle mean_residual_deviance\n",
              "1 0.1692992 0.1148288             0.05546510\n",
              "2 0.1743753 0.1169070             0.05798429\n",
              "3 0.1774729 0.1182150             0.06020501\n",
              "4 0.1767417 0.1201613             0.06079870\n",
              "5 0.1954331 0.1348443             0.07425749\n",
              "6 0.2428654 0.1476105             0.10453940\n",
              "\n",
              "[6 rows x 6 columns] "
            ]
          },
          "metadata": {}
        }
      ]
    },
    {
      "cell_type": "markdown",
      "metadata": {
        "id": "pbXhwKrYW4mV"
      },
      "source": [
        "## Best Model (Leader)"
      ]
    },
    {
      "cell_type": "code",
      "metadata": {
        "id": "ER3oxBwOW8Am",
        "colab": {
          "base_uri": "https://localhost:8080/",
          "height": 1000
        },
        "outputId": "54ea0e6f-f736-4f2e-e236-0fa12e3bd1f4"
      },
      "source": [
        "automl@leader"
      ],
      "execution_count": null,
      "outputs": [
        {
          "output_type": "display_data",
          "data": {
            "text/plain": [
              "Model Details:\n",
              "==============\n",
              "\n",
              "H2ORegressionModel: stackedensemble\n",
              "Model ID:  StackedEnsemble_AllModels_1_AutoML_1_20221129_220355 \n",
              "Number of Base Models: 4\n",
              "\n",
              "Base Models (count by algorithm type):\n",
              "\n",
              "    gbm     glm xgboost \n",
              "      1       1       2 \n",
              "\n",
              "Metalearner:\n",
              "\n",
              "Metalearner algorithm: glm\n",
              "Metalearner cross-validation fold assignment:\n",
              "  Fold assignment scheme: AUTO\n",
              "  Number of folds: 5\n",
              "  Fold column: NULL\n",
              "Metalearner hyperparameters: \n",
              "\n",
              "\n",
              "H2ORegressionMetrics: stackedensemble\n",
              "** Reported on training data. **\n",
              "\n",
              "MSE:  0.01855654\n",
              "RMSE:  0.1362224\n",
              "MAE:  0.1012406\n",
              "RMSLE:  0.06776923\n",
              "Mean Residual Deviance :  0.01855654\n",
              "\n",
              "\n",
              "\n",
              "H2ORegressionMetrics: stackedensemble\n",
              "** Reported on cross-validation data. **\n",
              "** 5-fold cross-validation on training data (Metrics computed for combined holdout predictions) **\n",
              "\n",
              "MSE:  0.0554651\n",
              "RMSE:  0.2355103\n",
              "MAE:  0.1692992\n",
              "RMSLE:  0.1148288\n",
              "Mean Residual Deviance :  0.0554651\n",
              "\n",
              "\n",
              "Cross-Validation Metrics Summary: \n",
              "                             mean        sd cv_1_valid cv_2_valid cv_3_valid\n",
              "mae                      0.169270  0.003961   0.175657   0.166788   0.165726\n",
              "mean_residual_deviance   0.055548  0.004627   0.054050   0.049570   0.062222\n",
              "mse                      0.055548  0.004627   0.054050   0.049570   0.062222\n",
              "null_deviance          795.123960 45.772520 788.551640 807.211240 825.519170\n",
              "r2                       0.929783  0.004523   0.928713   0.935164   0.924213\n",
              "residual_deviance       55.698715  4.245408  56.211850  52.048153  62.533560\n",
              "rmse                     0.235524  0.009791   0.232486   0.222642   0.249444\n",
              "rmsle                    0.114775  0.007948   0.119933   0.116916   0.114241\n",
              "                       cv_4_valid cv_5_valid\n",
              "mae                      0.167828   0.170351\n",
              "mean_residual_deviance   0.054767   0.057133\n",
              "mse                      0.054767   0.057133\n",
              "null_deviance          834.712600 719.625200\n",
              "r2                       0.933567   0.927255\n",
              "residual_deviance       55.423767  52.276240\n",
              "rmse                     0.234023   0.239024\n",
              "rmsle                    0.101435   0.121352"
            ]
          },
          "metadata": {}
        }
      ]
    },
    {
      "cell_type": "markdown",
      "metadata": {
        "id": "V40E_J_mYT7I"
      },
      "source": [
        "## Leader Board (lower is better)"
      ]
    },
    {
      "cell_type": "code",
      "metadata": {
        "id": "FrW5o7XQYXhE",
        "colab": {
          "base_uri": "https://localhost:8080/",
          "height": 223
        },
        "outputId": "513dc952-9bcc-4fb6-b193-32edaf86cc4f"
      },
      "source": [
        "d_eval_tmp <- data.frame(model = \"Best Model from H2O AutoML\",\n",
        "                         RMSE_cv = automl@leader@model$cross_validation_metrics@metrics$RMSE,\n",
        "                         RMSE_test = h2o.rmse(h2o.performance(automl@leader, newdata = h_test)))\n",
        "d_eval <- rbind(d_eval, d_eval_tmp)\n",
        "\n",
        "d_eval"
      ],
      "execution_count": null,
      "outputs": [
        {
          "output_type": "display_data",
          "data": {
            "text/html": [
              "<table class=\"dataframe\">\n",
              "<caption>A data.frame: 4 × 3</caption>\n",
              "<thead>\n",
              "\t<tr><th scope=col>model</th><th scope=col>RMSE_cv</th><th scope=col>RMSE_test</th></tr>\n",
              "\t<tr><th scope=col>&lt;chr&gt;</th><th scope=col>&lt;dbl&gt;</th><th scope=col>&lt;dbl&gt;</th></tr>\n",
              "</thead>\n",
              "<tbody>\n",
              "\t<tr><td>H2O GLM: Generalized Linear Model (Baseline) </td><td>0.3233533</td><td>0.3446951</td></tr>\n",
              "\t<tr><td>H2O DRF: Distributed Random Forest (Baseline)</td><td>0.2463643</td><td>0.2292424</td></tr>\n",
              "\t<tr><td>H2O DNN: Deep Neural Network (Baseline)      </td><td>0.2847585</td><td>0.2790717</td></tr>\n",
              "\t<tr><td>Best Model from H2O AutoML                   </td><td>0.2355103</td><td>0.2278306</td></tr>\n",
              "</tbody>\n",
              "</table>\n"
            ],
            "text/markdown": "\nA data.frame: 4 × 3\n\n| model &lt;chr&gt; | RMSE_cv &lt;dbl&gt; | RMSE_test &lt;dbl&gt; |\n|---|---|---|\n| H2O GLM: Generalized Linear Model (Baseline)  | 0.3233533 | 0.3446951 |\n| H2O DRF: Distributed Random Forest (Baseline) | 0.2463643 | 0.2292424 |\n| H2O DNN: Deep Neural Network (Baseline)       | 0.2847585 | 0.2790717 |\n| Best Model from H2O AutoML                    | 0.2355103 | 0.2278306 |\n\n",
            "text/latex": "A data.frame: 4 × 3\n\\begin{tabular}{lll}\n model & RMSE\\_cv & RMSE\\_test\\\\\n <chr> & <dbl> & <dbl>\\\\\n\\hline\n\t H2O GLM: Generalized Linear Model (Baseline)  & 0.3233533 & 0.3446951\\\\\n\t H2O DRF: Distributed Random Forest (Baseline) & 0.2463643 & 0.2292424\\\\\n\t H2O DNN: Deep Neural Network (Baseline)       & 0.2847585 & 0.2790717\\\\\n\t Best Model from H2O AutoML                    & 0.2355103 & 0.2278306\\\\\n\\end{tabular}\n",
            "text/plain": [
              "  model                                         RMSE_cv   RMSE_test\n",
              "1 H2O GLM: Generalized Linear Model (Baseline)  0.3233533 0.3446951\n",
              "2 H2O DRF: Distributed Random Forest (Baseline) 0.2463643 0.2292424\n",
              "3 H2O DNN: Deep Neural Network (Baseline)       0.2847585 0.2790717\n",
              "4 Best Model from H2O AutoML                    0.2355103 0.2278306"
            ]
          },
          "metadata": {}
        }
      ]
    }
  ]
}